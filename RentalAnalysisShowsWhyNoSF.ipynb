{
 "cells": [
  {
   "cell_type": "markdown",
   "id": "55d31a27",
   "metadata": {},
   "source": [
    "### San Francisco Housing Cost Analysis"
   ]
  },
  {
   "cell_type": "code",
   "execution_count": 91,
   "id": "b0b84071",
   "metadata": {},
   "outputs": [],
   "source": [
    "# imports\n",
    "import panel as pn\n",
    "pn.extension('plotly')\n",
    "import plotly.express as px\n",
    "import pandas as pd\n",
    "import hvplot.pandas\n",
    "import matplotlib.pyplot as plt\n",
    "import numpy as np\n",
    "import os\n",
    "from pathlib import Path\n",
    "from dotenv import load_dotenv\n",
    "\n",
    "import warnings\n",
    "warnings.filterwarnings('ignore')"
   ]
  },
  {
   "cell_type": "code",
   "execution_count": 92,
   "id": "b2b93861",
   "metadata": {},
   "outputs": [],
   "source": [
    "#Read Mapbox API\n",
    "load_dotenv()\n",
    "map_box_api = os.getenv(\"MAPBOX_TOKEN\")"
   ]
  },
  {
   "cell_type": "markdown",
   "id": "90cdda86",
   "metadata": {},
   "source": [
    "#### Load Data"
   ]
  },
  {
   "cell_type": "code",
   "execution_count": 32,
   "id": "a91ffb5b",
   "metadata": {},
   "outputs": [
    {
     "data": {
      "text/html": [
       "<div>\n",
       "<style scoped>\n",
       "    .dataframe tbody tr th:only-of-type {\n",
       "        vertical-align: middle;\n",
       "    }\n",
       "\n",
       "    .dataframe tbody tr th {\n",
       "        vertical-align: top;\n",
       "    }\n",
       "\n",
       "    .dataframe thead th {\n",
       "        text-align: right;\n",
       "    }\n",
       "</style>\n",
       "<table border=\"1\" class=\"dataframe\">\n",
       "  <thead>\n",
       "    <tr style=\"text-align: right;\">\n",
       "      <th></th>\n",
       "      <th>neighborhood</th>\n",
       "      <th>sale_price_sqr_foot</th>\n",
       "      <th>housing_units</th>\n",
       "      <th>gross_rent</th>\n",
       "    </tr>\n",
       "    <tr>\n",
       "      <th>year</th>\n",
       "      <th></th>\n",
       "      <th></th>\n",
       "      <th></th>\n",
       "      <th></th>\n",
       "    </tr>\n",
       "  </thead>\n",
       "  <tbody>\n",
       "    <tr>\n",
       "      <th>2010</th>\n",
       "      <td>Alamo Square</td>\n",
       "      <td>291.182945</td>\n",
       "      <td>372560</td>\n",
       "      <td>1239</td>\n",
       "    </tr>\n",
       "    <tr>\n",
       "      <th>2010</th>\n",
       "      <td>Anza Vista</td>\n",
       "      <td>267.932583</td>\n",
       "      <td>372560</td>\n",
       "      <td>1239</td>\n",
       "    </tr>\n",
       "    <tr>\n",
       "      <th>2010</th>\n",
       "      <td>Bayview</td>\n",
       "      <td>170.098665</td>\n",
       "      <td>372560</td>\n",
       "      <td>1239</td>\n",
       "    </tr>\n",
       "    <tr>\n",
       "      <th>2010</th>\n",
       "      <td>Buena Vista Park</td>\n",
       "      <td>347.394919</td>\n",
       "      <td>372560</td>\n",
       "      <td>1239</td>\n",
       "    </tr>\n",
       "    <tr>\n",
       "      <th>2010</th>\n",
       "      <td>Central Richmond</td>\n",
       "      <td>319.027623</td>\n",
       "      <td>372560</td>\n",
       "      <td>1239</td>\n",
       "    </tr>\n",
       "  </tbody>\n",
       "</table>\n",
       "</div>"
      ],
      "text/plain": [
       "          neighborhood  sale_price_sqr_foot  housing_units  gross_rent\n",
       "year                                                                  \n",
       "2010      Alamo Square           291.182945         372560        1239\n",
       "2010        Anza Vista           267.932583         372560        1239\n",
       "2010           Bayview           170.098665         372560        1239\n",
       "2010  Buena Vista Park           347.394919         372560        1239\n",
       "2010  Central Richmond           319.027623         372560        1239"
      ]
     },
     "execution_count": 32,
     "metadata": {},
     "output_type": "execute_result"
    }
   ],
   "source": [
    "#Load CSV and set year\n",
    "sf_data = pd.read_csv(\"sfo_neighborhoods_census_data.csv\", index_col=\"year\")\n",
    "sf_data.head()"
   ]
  },
  {
   "cell_type": "markdown",
   "id": "12a87144",
   "metadata": {},
   "source": [
    "#### Housing Units Per Year\n",
    "\n",
    "Mean/Max/Min/STD"
   ]
  },
  {
   "cell_type": "code",
   "execution_count": 33,
   "id": "da324691",
   "metadata": {},
   "outputs": [
    {
     "data": {
      "text/plain": [
       "year\n",
       "2010    372560\n",
       "2011    374507\n",
       "2012    376454\n",
       "2013    378401\n",
       "2014    380348\n",
       "2015    382295\n",
       "2016    384242\n",
       "Name: housing_units, dtype: int64"
      ]
     },
     "execution_count": 33,
     "metadata": {},
     "output_type": "execute_result"
    }
   ],
   "source": [
    "#Caculate the mean number of housing units per year \n",
    "\n",
    "housing_units_per_year = sf_data['housing_units'].groupby(by = ('year')).mean()\n",
    "housing_units_per_year"
   ]
  },
  {
   "cell_type": "code",
   "execution_count": 29,
   "id": "4afa0195",
   "metadata": {},
   "outputs": [
    {
     "data": {
      "text/plain": [
       "384242"
      ]
     },
     "execution_count": 29,
     "metadata": {},
     "output_type": "execute_result"
    }
   ],
   "source": [
    "housing_units_max = housing_units_per_year.max()\n",
    "housing_units_max"
   ]
  },
  {
   "cell_type": "code",
   "execution_count": 28,
   "id": "53b10f6a",
   "metadata": {},
   "outputs": [
    {
     "data": {
      "text/plain": [
       "372560"
      ]
     },
     "execution_count": 28,
     "metadata": {},
     "output_type": "execute_result"
    }
   ],
   "source": [
    "housing_units_min = housing_units_per_year.min()\n",
    "housing_units_min"
   ]
  },
  {
   "cell_type": "code",
   "execution_count": 30,
   "id": "058bd867",
   "metadata": {},
   "outputs": [
    {
     "data": {
      "text/plain": [
       "4206.0007132667015"
      ]
     },
     "execution_count": 30,
     "metadata": {},
     "output_type": "execute_result"
    }
   ],
   "source": [
    "housing_units_std = housing_units_per_year.std()\n",
    "housing_units_std"
   ]
  },
  {
   "cell_type": "code",
   "execution_count": 31,
   "id": "0029d890",
   "metadata": {},
   "outputs": [],
   "source": [
    "housing_units_per_year.to_csv(r'C:\\Users\\David R\\Downloads\\housing_units_per_year.csv', index=False)"
   ]
  },
  {
   "cell_type": "code",
   "execution_count": 25,
   "id": "3566eb99",
   "metadata": {},
   "outputs": [
    {
     "data": {
      "image/png": "[encoded data removed]",
      "text/plain": [
       "<Figure size 576x576 with 1 Axes>"
      ]
     },
     "metadata": {
      "needs_background": "light"
     },
     "output_type": "display_data"
    }
   ],
   "source": [
    "# Use the Pandas plot function to plot the average housing units per year.\n",
    "housing_units_per_year.plot.bar(figsize=(8,8), x='Year', y='Housing Units',title='Housing Units in San-Francisco from 2010 to 2016')\n",
    "# Optional Challenge: Use the min, max, and std to scale the y limits of the chart\n",
    "# YOUR CODE HERE!\n",
    "plt.ylim((360000, 385000))\n",
    "plt.show()\n",
    "plt.close()"
   ]
  },
  {
   "cell_type": "code",
   "execution_count": 36,
   "id": "a240fc51",
   "metadata": {},
   "outputs": [
    {
     "data": {
      "text/html": [
       "<div>\n",
       "<style scoped>\n",
       "    .dataframe tbody tr th:only-of-type {\n",
       "        vertical-align: middle;\n",
       "    }\n",
       "\n",
       "    .dataframe tbody tr th {\n",
       "        vertical-align: top;\n",
       "    }\n",
       "\n",
       "    .dataframe thead th {\n",
       "        text-align: right;\n",
       "    }\n",
       "</style>\n",
       "<table border=\"1\" class=\"dataframe\">\n",
       "  <thead>\n",
       "    <tr style=\"text-align: right;\">\n",
       "      <th></th>\n",
       "      <th>sale_price_sqr_foot</th>\n",
       "      <th>gross_rent</th>\n",
       "    </tr>\n",
       "    <tr>\n",
       "      <th>year</th>\n",
       "      <th></th>\n",
       "      <th></th>\n",
       "    </tr>\n",
       "  </thead>\n",
       "  <tbody>\n",
       "    <tr>\n",
       "      <th>2010</th>\n",
       "      <td>369.344353</td>\n",
       "      <td>1239</td>\n",
       "    </tr>\n",
       "    <tr>\n",
       "      <th>2011</th>\n",
       "      <td>341.903429</td>\n",
       "      <td>1530</td>\n",
       "    </tr>\n",
       "    <tr>\n",
       "      <th>2012</th>\n",
       "      <td>399.389968</td>\n",
       "      <td>2324</td>\n",
       "    </tr>\n",
       "    <tr>\n",
       "      <th>2013</th>\n",
       "      <td>483.600304</td>\n",
       "      <td>2971</td>\n",
       "    </tr>\n",
       "    <tr>\n",
       "      <th>2014</th>\n",
       "      <td>556.277273</td>\n",
       "      <td>3528</td>\n",
       "    </tr>\n",
       "    <tr>\n",
       "      <th>2015</th>\n",
       "      <td>632.540352</td>\n",
       "      <td>3739</td>\n",
       "    </tr>\n",
       "    <tr>\n",
       "      <th>2016</th>\n",
       "      <td>697.643709</td>\n",
       "      <td>4390</td>\n",
       "    </tr>\n",
       "  </tbody>\n",
       "</table>\n",
       "</div>"
      ],
      "text/plain": [
       "      sale_price_sqr_foot  gross_rent\n",
       "year                                 \n",
       "2010           369.344353        1239\n",
       "2011           341.903429        1530\n",
       "2012           399.389968        2324\n",
       "2013           483.600304        2971\n",
       "2014           556.277273        3528\n",
       "2015           632.540352        3739\n",
       "2016           697.643709        4390"
      ]
     },
     "execution_count": 36,
     "metadata": {},
     "output_type": "execute_result"
    }
   ],
   "source": [
    "# Calculate the average sale price per square foot and average gross rent\n",
    "sf_avg_price_rent_df = sf_data[['sale_price_sqr_foot','gross_rent']].groupby(['year'])['sale_price_sqr_foot','gross_rent'].mean()\n",
    "sf_avg_price_rent_df"
   ]
  },
  {
   "cell_type": "code",
   "execution_count": null,
   "id": "5c9858e3",
   "metadata": {},
   "outputs": [],
   "source": [
    "# Create two line charts, one to plot the average sale price per square foot and another for average montly rent\n",
    "\n",
    "# Line chart for average sale price per square foot\n",
    "#reset index to make the year as x "
   ]
  },
  {
   "cell_type": "markdown",
   "id": "ab44ed86",
   "metadata": {},
   "source": [
    "#### Average Rent Per Year"
   ]
  },
  {
   "cell_type": "code",
   "execution_count": 43,
   "id": "7e54275d",
   "metadata": {},
   "outputs": [
    {
     "data": {
      "text/plain": [
       "<matplotlib.axes._subplots.AxesSubplot at 0x27d8f3a36a0>"
      ]
     },
     "execution_count": 43,
     "metadata": {},
     "output_type": "execute_result"
    },
    {
     "data": {
      "image/png": "[encoded data removed]",
      "text/plain": [
       "<Figure size 432x288 with 1 Axes>"
      ]
     },
     "metadata": {
      "needs_background": "light"
     },
     "output_type": "display_data"
    }
   ],
   "source": [
    "sf_data[['gross_rent']].groupby(by='year').mean().plot(kind = 'line', title = \"Average Gross Rent in San Fransisco\", color= 'black')\n",
    "#Different ways to do a graph. Line is Black because of SF Giants. "
   ]
  },
  {
   "cell_type": "markdown",
   "id": "175180d2",
   "metadata": {},
   "source": [
    "#### Average Price per Sqft per Year"
   ]
  },
  {
   "cell_type": "code",
   "execution_count": 42,
   "id": "d9731724",
   "metadata": {},
   "outputs": [
    {
     "data": {
      "text/plain": [
       "Text(0, 0.5, 'Price per SqFt')"
      ]
     },
     "execution_count": 42,
     "metadata": {},
     "output_type": "execute_result"
    },
    {
     "data": {
      "image/png": "[encoded data removed]",
      "text/plain": [
       "<Figure size 432x288 with 1 Axes>"
      ]
     },
     "metadata": {
      "needs_background": "light"
     },
     "output_type": "display_data"
    }
   ],
   "source": [
    "price_plot = sf_avg_price_rent_df.reset_index().plot(x='year',  y='sale_price_sqr_foot',  title='Average Price per SqFt by Year', color='orange')\n",
    "price_plot.set_ylabel(\"Price per SqFt\")\n",
    "#Different ways to do a graph. Line is Orange because of SF Giants. "
   ]
  },
  {
   "cell_type": "markdown",
   "id": "d2cdc666",
   "metadata": {},
   "source": [
    "### Average Prices by Neighborhood\n",
    "Group by year and neighborhood and then create a new dataframe of the mean values"
   ]
  },
  {
   "cell_type": "code",
   "execution_count": 45,
   "id": "3b43527c",
   "metadata": {},
   "outputs": [
    {
     "data": {
      "text/html": [
       "<div>\n",
       "<style scoped>\n",
       "    .dataframe tbody tr th:only-of-type {\n",
       "        vertical-align: middle;\n",
       "    }\n",
       "\n",
       "    .dataframe tbody tr th {\n",
       "        vertical-align: top;\n",
       "    }\n",
       "\n",
       "    .dataframe thead th {\n",
       "        text-align: right;\n",
       "    }\n",
       "</style>\n",
       "<table border=\"1\" class=\"dataframe\">\n",
       "  <thead>\n",
       "    <tr style=\"text-align: right;\">\n",
       "      <th></th>\n",
       "      <th>year</th>\n",
       "      <th>neighborhood</th>\n",
       "      <th>sale_price_sqr_foot</th>\n",
       "      <th>housing_units</th>\n",
       "      <th>gross_rent</th>\n",
       "    </tr>\n",
       "  </thead>\n",
       "  <tbody>\n",
       "    <tr>\n",
       "      <th>0</th>\n",
       "      <td>2010</td>\n",
       "      <td>Alamo Square</td>\n",
       "      <td>291.182945</td>\n",
       "      <td>372560</td>\n",
       "      <td>1239</td>\n",
       "    </tr>\n",
       "    <tr>\n",
       "      <th>1</th>\n",
       "      <td>2010</td>\n",
       "      <td>Anza Vista</td>\n",
       "      <td>267.932583</td>\n",
       "      <td>372560</td>\n",
       "      <td>1239</td>\n",
       "    </tr>\n",
       "    <tr>\n",
       "      <th>2</th>\n",
       "      <td>2010</td>\n",
       "      <td>Bayview</td>\n",
       "      <td>170.098665</td>\n",
       "      <td>372560</td>\n",
       "      <td>1239</td>\n",
       "    </tr>\n",
       "    <tr>\n",
       "      <th>3</th>\n",
       "      <td>2010</td>\n",
       "      <td>Buena Vista Park</td>\n",
       "      <td>347.394919</td>\n",
       "      <td>372560</td>\n",
       "      <td>1239</td>\n",
       "    </tr>\n",
       "    <tr>\n",
       "      <th>4</th>\n",
       "      <td>2010</td>\n",
       "      <td>Central Richmond</td>\n",
       "      <td>319.027623</td>\n",
       "      <td>372560</td>\n",
       "      <td>1239</td>\n",
       "    </tr>\n",
       "    <tr>\n",
       "      <th>5</th>\n",
       "      <td>2010</td>\n",
       "      <td>Central Sunset</td>\n",
       "      <td>418.172493</td>\n",
       "      <td>372560</td>\n",
       "      <td>1239</td>\n",
       "    </tr>\n",
       "    <tr>\n",
       "      <th>6</th>\n",
       "      <td>2010</td>\n",
       "      <td>Corona Heights</td>\n",
       "      <td>369.359338</td>\n",
       "      <td>372560</td>\n",
       "      <td>1239</td>\n",
       "    </tr>\n",
       "    <tr>\n",
       "      <th>7</th>\n",
       "      <td>2010</td>\n",
       "      <td>Cow Hollow</td>\n",
       "      <td>569.379968</td>\n",
       "      <td>372560</td>\n",
       "      <td>1239</td>\n",
       "    </tr>\n",
       "    <tr>\n",
       "      <th>8</th>\n",
       "      <td>2010</td>\n",
       "      <td>Croker Amazon</td>\n",
       "      <td>165.645730</td>\n",
       "      <td>372560</td>\n",
       "      <td>1239</td>\n",
       "    </tr>\n",
       "    <tr>\n",
       "      <th>9</th>\n",
       "      <td>2010</td>\n",
       "      <td>Diamond Heights</td>\n",
       "      <td>456.930822</td>\n",
       "      <td>372560</td>\n",
       "      <td>1239</td>\n",
       "    </tr>\n",
       "  </tbody>\n",
       "</table>\n",
       "</div>"
      ],
      "text/plain": [
       "   year      neighborhood  sale_price_sqr_foot  housing_units  gross_rent\n",
       "0  2010      Alamo Square           291.182945         372560        1239\n",
       "1  2010        Anza Vista           267.932583         372560        1239\n",
       "2  2010           Bayview           170.098665         372560        1239\n",
       "3  2010  Buena Vista Park           347.394919         372560        1239\n",
       "4  2010  Central Richmond           319.027623         372560        1239\n",
       "5  2010    Central Sunset           418.172493         372560        1239\n",
       "6  2010    Corona Heights           369.359338         372560        1239\n",
       "7  2010        Cow Hollow           569.379968         372560        1239\n",
       "8  2010     Croker Amazon           165.645730         372560        1239\n",
       "9  2010   Diamond Heights           456.930822         372560        1239"
      ]
     },
     "execution_count": 45,
     "metadata": {},
     "output_type": "execute_result"
    }
   ],
   "source": [
    "sf_df = sfo_data.groupby(by = ['year','neighborhood']).mean().reset_index()\n",
    "sf_df.head(10)"
   ]
  },
  {
   "cell_type": "code",
   "execution_count": 46,
   "id": "813b89cb",
   "metadata": {},
   "outputs": [
    {
     "data": {},
     "metadata": {},
     "output_type": "display_data"
    },
    {
     "data": {
      "application/vnd.holoviews_exec.v0+json": "",
      "text/html": [
       "<div id='1001'>\n",
       "\n",
       "\n",
       "\n",
       "\n",
       "\n",
       "  <div class=\"bk-root\" id=\"6a14f8fb-423d-4db3-a0f8-983c370d3ec6\" data-root-id=\"1001\"></div>\n",
       "</div>\n",
       "<script type=\"application/javascript\">(function(root) {\n",
       "  function embed_document(root) {\n",
       "  var docs_json = {\"d7bfc05e-8d93-44fb-96ec-f5c75407301d\":{\"roots\":{\"references\":[{\"attributes\":{},\"id\":\"1025\",\"type\":\"WheelZoomTool\"},{\"attributes\":{\"callback\":null,\"renderers\":[{\"id\":\"1042\"}],\"tags\":[\"hv_created\"],\"tooltips\":[[\"year\",\"@{year}\"],[\"sale_price_sqr_foot\",\"@{sale_price_sqr_foot}\"]]},\"id\":\"1005\",\"type\":\"HoverTool\"},{\"attributes\":{},\"id\":\"1024\",\"type\":\"PanTool\"},{\"attributes\":{},\"id\":\"1058\",\"type\":\"UnionRenderers\"},{\"attributes\":{\"overlay\":{\"id\":\"1028\"}},\"id\":\"1026\",\"type\":\"BoxZoomTool\"},{\"attributes\":{},\"id\":\"1023\",\"type\":\"SaveTool\"},{\"attributes\":{\"children\":[{\"id\":\"1002\"},{\"id\":\"1006\"},{\"id\":\"1060\"},{\"id\":\"1061\"}],\"margin\":[0,0,0,0],\"name\":\"Row01474\"},\"id\":\"1001\",\"type\":\"Row\"},{\"attributes\":{\"active_drag\":\"auto\",\"active_inspect\":\"auto\",\"active_multi\":null,\"active_scroll\":\"auto\",\"active_tap\":\"auto\",\"tools\":[{\"id\":\"1005\"},{\"id\":\"1023\"},{\"id\":\"1024\"},{\"id\":\"1025\"},{\"id\":\"1026\"},{\"id\":\"1027\"}]},\"id\":\"1029\",\"type\":\"Toolbar\"},{\"attributes\":{\"client_comm_id\":\"72b9e95cccd54deb864fb3b4e67770c6\",\"comm_id\":\"28b7fc05b96843fca8ada4e48f3ee3dc\",\"plot_id\":\"1001\"},\"id\":\"1090\",\"type\":\"panel.models.comm_manager.CommManager\"},{\"attributes\":{\"bottom_units\":\"screen\",\"fill_alpha\":0.5,\"fill_color\":\"lightgrey\",\"left_units\":\"screen\",\"level\":\"overlay\",\"line_alpha\":1.0,\"line_color\":\"black\",\"line_dash\":[4,4],\"line_width\":2,\"render_mode\":\"css\",\"right_units\":\"screen\",\"top_units\":\"screen\"},\"id\":\"1028\",\"type\":\"BoxAnnotation\"},{\"attributes\":{},\"id\":\"1027\",\"type\":\"ResetTool\"},{\"attributes\":{\"margin\":[5,5,5,5],\"name\":\"VSpacer01481\",\"sizing_mode\":\"stretch_height\"},\"id\":\"1065\",\"type\":\"Spacer\"},{\"attributes\":{\"margin\":[5,5,5,5],\"name\":\"VSpacer01480\",\"sizing_mode\":\"stretch_height\"},\"id\":\"1062\",\"type\":\"Spacer\"},{\"attributes\":{},\"id\":\"1046\",\"type\":\"BasicTickFormatter\"},{\"attributes\":{\"children\":[{\"id\":\"1064\"}],\"css_classes\":[\"widget-box\"],\"margin\":[5,5,5,5],\"name\":\"WidgetBox01475\"},\"id\":\"1063\",\"type\":\"Column\"},{\"attributes\":{\"end\":2016.0,\"reset_end\":2016.0,\"reset_start\":2010.0,\"start\":2010.0,\"tags\":[[[\"year\",\"year\",null]]]},\"id\":\"1003\",\"type\":\"Range1d\"},{\"attributes\":{\"margin\":[20,20,20,20],\"min_width\":250,\"options\":[\"Alamo Square\",\"Anza Vista\",\"Bayview\",\"Buena Vista Park\",\"Central Richmond\",\"Central Sunset\",\"Corona Heights\",\"Cow Hollow\",\"Croker Amazon\",\"Diamond Heights\",\"Downtown \",\"Eureka Valley/Dolores Heights\",\"Excelsior\",\"Financial District North\",\"Financial District South\",\"Forest Knolls\",\"Glen Park\",\"Golden Gate Heights\",\"Haight Ashbury\",\"Hayes Valley\",\"Hunters Point\",\"Ingleside \",\"Inner Mission\",\"Inner Parkside\",\"Inner Richmond\",\"Inner Sunset\",\"Jordan Park/Laurel Heights\",\"Lake --The Presidio\",\"Lone Mountain\",\"Lower Pacific Heights\",\"Marina\",\"Miraloma Park\",\"Mission Bay\",\"Mission Dolores\",\"Mission Terrace\",\"Nob Hill\",\"Noe Valley\",\"Oceanview\",\"Outer Parkside\",\"Outer Richmond \",\"Outer Sunset\",\"Pacific Heights\",\"Park North\",\"Parkside\",\"Parnassus/Ashbury Heights\",\"Portola\",\"Potrero Hill\",\"Presidio Heights\",\"Russian Hill\",\"South Beach\",\"South of Market\",\"Sunnyside\",\"Telegraph Hill\",\"Twin Peaks\",\"Union Square District\",\"Van Ness/ Civic Center\",\"West Portal\",\"Western Addition\",\"Yerba Buena\",\"Bernal Heights \",\"Clarendon Heights\",\"Duboce Triangle\",\"Ingleside Heights\",\"North Beach\",\"North Waterfront\",\"Outer Mission\",\"Westwood Highlands\",\"Merced Heights\",\"Midtown Terrace\",\"Visitacion Valley\",\"Silver Terrace\",\"Westwood Park\",\"Bayview Heights\"],\"title\":\"neighborhood\",\"value\":\"Alamo Square\",\"width\":250},\"id\":\"1064\",\"type\":\"Select\"},{\"attributes\":{},\"id\":\"1044\",\"type\":\"BasicTickFormatter\"},{\"attributes\":{},\"id\":\"1037\",\"type\":\"Selection\"},{\"attributes\":{\"margin\":[5,5,5,5],\"name\":\"HSpacer01483\",\"sizing_mode\":\"stretch_width\"},\"id\":\"1002\",\"type\":\"Spacer\"},{\"attributes\":{},\"id\":\"1011\",\"type\":\"LinearScale\"},{\"attributes\":{\"line_alpha\":0.1,\"line_color\":\"#1f77b3\",\"line_width\":2,\"x\":{\"field\":\"year\"},\"y\":{\"field\":\"sale_price_sqr_foot\"}},\"id\":\"1040\",\"type\":\"Line\"},{\"attributes\":{\"end\":644.0175329447045,\"reset_end\":644.0175329447045,\"reset_start\":141.1976609302527,\"start\":141.1976609302527,\"tags\":[[[\"sale_price_sqr_foot\",\"sale_price_sqr_foot\",null]]]},\"id\":\"1004\",\"type\":\"Range1d\"},{\"attributes\":{\"below\":[{\"id\":\"1015\"}],\"center\":[{\"id\":\"1018\"},{\"id\":\"1022\"}],\"left\":[{\"id\":\"1019\"}],\"margin\":null,\"min_border_bottom\":10,\"min_border_left\":10,\"min_border_right\":10,\"min_border_top\":10,\"plot_height\":300,\"plot_width\":700,\"renderers\":[{\"id\":\"1042\"}],\"sizing_mode\":\"fixed\",\"title\":{\"id\":\"1007\"},\"toolbar\":{\"id\":\"1029\"},\"x_range\":{\"id\":\"1003\"},\"x_scale\":{\"id\":\"1011\"},\"y_range\":{\"id\":\"1004\"},\"y_scale\":{\"id\":\"1013\"}},\"id\":\"1006\",\"subtype\":\"Figure\",\"type\":\"Plot\"},{\"attributes\":{\"data_source\":{\"id\":\"1036\"},\"glyph\":{\"id\":\"1039\"},\"hover_glyph\":null,\"muted_glyph\":{\"id\":\"1041\"},\"nonselection_glyph\":{\"id\":\"1040\"},\"selection_glyph\":null,\"view\":{\"id\":\"1043\"}},\"id\":\"1042\",\"type\":\"GlyphRenderer\"},{\"attributes\":{\"axis\":{\"id\":\"1019\"},\"dimension\":1,\"grid_line_color\":null,\"ticker\":null},\"id\":\"1022\",\"type\":\"Grid\"},{\"attributes\":{\"text\":\"neighborhood: Alamo Square\",\"text_color\":{\"value\":\"black\"},\"text_font_size\":{\"value\":\"12pt\"}},\"id\":\"1007\",\"type\":\"Title\"},{\"attributes\":{\"line_color\":\"#1f77b3\",\"line_width\":2,\"x\":{\"field\":\"year\"},\"y\":{\"field\":\"sale_price_sqr_foot\"}},\"id\":\"1039\",\"type\":\"Line\"},{\"attributes\":{\"margin\":[5,5,5,5],\"name\":\"HSpacer01484\",\"sizing_mode\":\"stretch_width\"},\"id\":\"1060\",\"type\":\"Spacer\"},{\"attributes\":{\"line_alpha\":0.2,\"line_color\":\"#1f77b3\",\"line_width\":2,\"x\":{\"field\":\"year\"},\"y\":{\"field\":\"sale_price_sqr_foot\"}},\"id\":\"1041\",\"type\":\"Line\"},{\"attributes\":{\"data\":{\"sale_price_sqr_foot\":{\"__ndarray__\":\"Dkc7WO0yckCafszcbwhxQIGRs5ot42ZAJzog0LQ8eEAWMinKGEd+QI0V5FDt0IJAVCHcmLVPdUA=\",\"dtype\":\"float64\",\"shape\":[7]},\"year\":[2010,2011,2012,2013,2014,2015,2016]},\"selected\":{\"id\":\"1037\"},\"selection_policy\":{\"id\":\"1058\"}},\"id\":\"1036\",\"type\":\"ColumnDataSource\"},{\"attributes\":{\"source\":{\"id\":\"1036\"}},\"id\":\"1043\",\"type\":\"CDSView\"},{\"attributes\":{},\"id\":\"1020\",\"type\":\"BasicTicker\"},{\"attributes\":{},\"id\":\"1013\",\"type\":\"LinearScale\"},{\"attributes\":{\"children\":[{\"id\":\"1062\"},{\"id\":\"1063\"},{\"id\":\"1065\"}],\"margin\":[0,0,0,0],\"name\":\"Column01482\"},\"id\":\"1061\",\"type\":\"Column\"},{\"attributes\":{\"axis_label\":\"sale_price_sqr_foot\",\"bounds\":\"auto\",\"formatter\":{\"id\":\"1046\"},\"major_label_orientation\":\"horizontal\",\"ticker\":{\"id\":\"1020\"}},\"id\":\"1019\",\"type\":\"LinearAxis\"},{\"attributes\":{},\"id\":\"1016\",\"type\":\"BasicTicker\"},{\"attributes\":{\"axis_label\":\"year\",\"bounds\":\"auto\",\"formatter\":{\"id\":\"1044\"},\"major_label_orientation\":\"horizontal\",\"ticker\":{\"id\":\"1016\"}},\"id\":\"1015\",\"type\":\"LinearAxis\"},{\"attributes\":{\"axis\":{\"id\":\"1015\"},\"grid_line_color\":null,\"ticker\":null},\"id\":\"1018\",\"type\":\"Grid\"}],\"root_ids\":[\"1001\",\"1090\"]},\"title\":\"Bokeh Application\",\"version\":\"2.0.2\"}};\n",
       "  var render_items = [{\"docid\":\"d7bfc05e-8d93-44fb-96ec-f5c75407301d\",\"root_ids\":[\"1001\"],\"roots\":{\"1001\":\"6a14f8fb-423d-4db3-a0f8-983c370d3ec6\"}}];\n",
       "  root.Bokeh.embed.embed_items_notebook(docs_json, render_items);\n",
       "  }\n",
       "if (root.Bokeh !== undefined) {\n",
       "    embed_document(root);\n",
       "  } else {\n",
       "    var attempts = 0;\n",
       "    var timer = setInterval(function(root) {\n",
       "      if (root.Bokeh !== undefined) {\n",
       "        clearInterval(timer);\n",
       "        embed_document(root);\n",
       "      } else if (document.readyState == \"complete\") {\n",
       "        attempts++;\n",
       "        if (attempts > 100) {\n",
       "          clearInterval(timer);\n",
       "          console.log(\"Bokeh: ERROR: Unable to run BokehJS code because BokehJS library is missing\");\n",
       "        }\n",
       "      }\n",
       "    }, 10, root)\n",
       "  }\n",
       "})(window);</script>"
      ],
      "text/plain": [
       ":DynamicMap   [neighborhood]\n",
       "   :Curve   [year]   (sale_price_sqr_foot)"
      ]
     },
     "execution_count": 46,
     "metadata": {
      "application/vnd.holoviews_exec.v0+json": {
       "id": "1001"
      }
     },
     "output_type": "execute_result"
    }
   ],
   "source": [
    "# Use hvplot to create an interactive line chart of the average monthly rent.\n",
    "sf_df.hvplot.line(x = 'year', y = ['sale_price_sqr_foot'],groupby = 'neighborhood')"
   ]
  },
  {
   "cell_type": "code",
   "execution_count": 48,
   "id": "3237cb0d",
   "metadata": {},
   "outputs": [
    {
     "data": {},
     "metadata": {},
     "output_type": "display_data"
    },
    {
     "data": {
      "application/vnd.holoviews_exec.v0+json": "",
      "text/html": [
       "<div id='1134'>\n",
       "\n",
       "\n",
       "\n",
       "\n",
       "\n",
       "  <div class=\"bk-root\" id=\"61d8d02a-770a-4033-ac0c-0dc4fc596d59\" data-root-id=\"1134\"></div>\n",
       "</div>\n",
       "<script type=\"application/javascript\">(function(root) {\n",
       "  function embed_document(root) {\n",
       "  var docs_json = {\"e97a9654-7faa-475f-b3a6-c9ef3a2761c7\":{\"roots\":{\"references\":[{\"attributes\":{\"data\":{\"gross_rent\":[1239,1530,2324,2971,3528,3739,4390],\"year\":[2010,2011,2012,2013,2014,2015,2016]},\"selected\":{\"id\":\"1170\"},\"selection_policy\":{\"id\":\"1191\"}},\"id\":\"1169\",\"type\":\"ColumnDataSource\"},{\"attributes\":{\"margin\":[5,5,5,5],\"name\":\"HSpacer01798\",\"sizing_mode\":\"stretch_width\"},\"id\":\"1193\",\"type\":\"Spacer\"},{\"attributes\":{},\"id\":\"1191\",\"type\":\"UnionRenderers\"},{\"attributes\":{\"callback\":null,\"renderers\":[{\"id\":\"1175\"}],\"tags\":[\"hv_created\"],\"tooltips\":[[\"year\",\"@{year}\"],[\"gross_rent\",\"@{gross_rent}\"]]},\"id\":\"1138\",\"type\":\"HoverTool\"},{\"attributes\":{\"text\":\"neighborhood: Alamo Square\",\"text_color\":{\"value\":\"black\"},\"text_font_size\":{\"value\":\"12pt\"}},\"id\":\"1140\",\"type\":\"Title\"},{\"attributes\":{\"end\":2016.0,\"reset_end\":2016.0,\"reset_start\":2010.0,\"start\":2010.0,\"tags\":[[[\"year\",\"year\",null]]]},\"id\":\"1136\",\"type\":\"Range1d\"},{\"attributes\":{},\"id\":\"1144\",\"type\":\"LinearScale\"},{\"attributes\":{\"margin\":[5,5,5,5],\"name\":\"VSpacer01795\",\"sizing_mode\":\"stretch_height\"},\"id\":\"1198\",\"type\":\"Spacer\"},{\"attributes\":{\"children\":[{\"id\":\"1135\"},{\"id\":\"1139\"},{\"id\":\"1193\"},{\"id\":\"1194\"}],\"margin\":[0,0,0,0],\"name\":\"Row01788\"},\"id\":\"1134\",\"type\":\"Row\"},{\"attributes\":{\"end\":4705.1,\"reset_end\":4705.1,\"reset_start\":923.9,\"start\":923.9,\"tags\":[[[\"gross_rent\",\"gross_rent\",null]]]},\"id\":\"1137\",\"type\":\"Range1d\"},{\"attributes\":{\"margin\":[5,5,5,5],\"name\":\"VSpacer01794\",\"sizing_mode\":\"stretch_height\"},\"id\":\"1195\",\"type\":\"Spacer\"},{\"attributes\":{\"bottom_units\":\"screen\",\"fill_alpha\":0.5,\"fill_color\":\"lightgrey\",\"left_units\":\"screen\",\"level\":\"overlay\",\"line_alpha\":1.0,\"line_color\":\"black\",\"line_dash\":[4,4],\"line_width\":2,\"render_mode\":\"css\",\"right_units\":\"screen\",\"top_units\":\"screen\"},\"id\":\"1161\",\"type\":\"BoxAnnotation\"},{\"attributes\":{},\"id\":\"1153\",\"type\":\"BasicTicker\"},{\"attributes\":{},\"id\":\"1179\",\"type\":\"BasicTickFormatter\"},{\"attributes\":{\"children\":[{\"id\":\"1197\"}],\"css_classes\":[\"widget-box\"],\"margin\":[5,5,5,5],\"name\":\"WidgetBox01789\"},\"id\":\"1196\",\"type\":\"Column\"},{\"attributes\":{\"margin\":[20,20,20,20],\"min_width\":250,\"options\":[\"Alamo Square\",\"Anza Vista\",\"Bayview\",\"Buena Vista Park\",\"Central Richmond\",\"Central Sunset\",\"Corona Heights\",\"Cow Hollow\",\"Croker Amazon\",\"Diamond Heights\",\"Downtown \",\"Eureka Valley/Dolores Heights\",\"Excelsior\",\"Financial District North\",\"Financial District South\",\"Forest Knolls\",\"Glen Park\",\"Golden Gate Heights\",\"Haight Ashbury\",\"Hayes Valley\",\"Hunters Point\",\"Ingleside \",\"Inner Mission\",\"Inner Parkside\",\"Inner Richmond\",\"Inner Sunset\",\"Jordan Park/Laurel Heights\",\"Lake --The Presidio\",\"Lone Mountain\",\"Lower Pacific Heights\",\"Marina\",\"Miraloma Park\",\"Mission Bay\",\"Mission Dolores\",\"Mission Terrace\",\"Nob Hill\",\"Noe Valley\",\"Oceanview\",\"Outer Parkside\",\"Outer Richmond \",\"Outer Sunset\",\"Pacific Heights\",\"Park North\",\"Parkside\",\"Parnassus/Ashbury Heights\",\"Portola\",\"Potrero Hill\",\"Presidio Heights\",\"Russian Hill\",\"South Beach\",\"South of Market\",\"Sunnyside\",\"Telegraph Hill\",\"Twin Peaks\",\"Union Square District\",\"Van Ness/ Civic Center\",\"West Portal\",\"Western Addition\",\"Yerba Buena\",\"Bernal Heights \",\"Clarendon Heights\",\"Duboce Triangle\",\"Ingleside Heights\",\"North Beach\",\"North Waterfront\",\"Outer Mission\",\"Westwood Highlands\",\"Merced Heights\",\"Midtown Terrace\",\"Visitacion Valley\",\"Silver Terrace\",\"Westwood Park\",\"Bayview Heights\"],\"title\":\"neighborhood\",\"value\":\"Alamo Square\",\"width\":250},\"id\":\"1197\",\"type\":\"Select\"},{\"attributes\":{},\"id\":\"1149\",\"type\":\"BasicTicker\"},{\"attributes\":{\"axis_label\":\"gross_rent\",\"bounds\":\"auto\",\"formatter\":{\"id\":\"1179\"},\"major_label_orientation\":\"horizontal\",\"ticker\":{\"id\":\"1153\"}},\"id\":\"1152\",\"type\":\"LinearAxis\"},{\"attributes\":{\"axis\":{\"id\":\"1148\"},\"grid_line_color\":null,\"ticker\":null},\"id\":\"1151\",\"type\":\"Grid\"},{\"attributes\":{\"below\":[{\"id\":\"1148\"}],\"center\":[{\"id\":\"1151\"},{\"id\":\"1155\"}],\"left\":[{\"id\":\"1152\"}],\"margin\":null,\"min_border_bottom\":10,\"min_border_left\":10,\"min_border_right\":10,\"min_border_top\":10,\"plot_height\":300,\"plot_width\":700,\"renderers\":[{\"id\":\"1175\"}],\"sizing_mode\":\"fixed\",\"title\":{\"id\":\"1140\"},\"toolbar\":{\"id\":\"1162\"},\"x_range\":{\"id\":\"1136\"},\"x_scale\":{\"id\":\"1144\"},\"y_range\":{\"id\":\"1137\"},\"y_scale\":{\"id\":\"1146\"}},\"id\":\"1139\",\"subtype\":\"Figure\",\"type\":\"Plot\"},{\"attributes\":{},\"id\":\"1146\",\"type\":\"LinearScale\"},{\"attributes\":{\"axis_label\":\"year\",\"bounds\":\"auto\",\"formatter\":{\"id\":\"1177\"},\"major_label_orientation\":\"horizontal\",\"ticker\":{\"id\":\"1149\"}},\"id\":\"1148\",\"type\":\"LinearAxis\"},{\"attributes\":{\"axis\":{\"id\":\"1152\"},\"dimension\":1,\"grid_line_color\":null,\"ticker\":null},\"id\":\"1155\",\"type\":\"Grid\"},{\"attributes\":{},\"id\":\"1156\",\"type\":\"SaveTool\"},{\"attributes\":{},\"id\":\"1157\",\"type\":\"PanTool\"},{\"attributes\":{},\"id\":\"1158\",\"type\":\"WheelZoomTool\"},{\"attributes\":{\"client_comm_id\":\"6b8912b9f54d46069377fc3c6256e564\",\"comm_id\":\"1c9a8186c89a4e7396c353e9c919b55e\",\"plot_id\":\"1134\"},\"id\":\"1223\",\"type\":\"panel.models.comm_manager.CommManager\"},{\"attributes\":{\"margin\":[5,5,5,5],\"name\":\"HSpacer01797\",\"sizing_mode\":\"stretch_width\"},\"id\":\"1135\",\"type\":\"Spacer\"},{\"attributes\":{\"overlay\":{\"id\":\"1161\"}},\"id\":\"1159\",\"type\":\"BoxZoomTool\"},{\"attributes\":{},\"id\":\"1170\",\"type\":\"Selection\"},{\"attributes\":{},\"id\":\"1160\",\"type\":\"ResetTool\"},{\"attributes\":{\"line_alpha\":0.1,\"line_color\":\"#1f77b3\",\"line_width\":2,\"x\":{\"field\":\"year\"},\"y\":{\"field\":\"gross_rent\"}},\"id\":\"1173\",\"type\":\"Line\"},{\"attributes\":{\"active_drag\":\"auto\",\"active_inspect\":\"auto\",\"active_multi\":null,\"active_scroll\":\"auto\",\"active_tap\":\"auto\",\"tools\":[{\"id\":\"1138\"},{\"id\":\"1156\"},{\"id\":\"1157\"},{\"id\":\"1158\"},{\"id\":\"1159\"},{\"id\":\"1160\"}]},\"id\":\"1162\",\"type\":\"Toolbar\"},{\"attributes\":{\"line_color\":\"#1f77b3\",\"line_width\":2,\"x\":{\"field\":\"year\"},\"y\":{\"field\":\"gross_rent\"}},\"id\":\"1172\",\"type\":\"Line\"},{\"attributes\":{},\"id\":\"1177\",\"type\":\"BasicTickFormatter\"},{\"attributes\":{\"data_source\":{\"id\":\"1169\"},\"glyph\":{\"id\":\"1172\"},\"hover_glyph\":null,\"muted_glyph\":{\"id\":\"1174\"},\"nonselection_glyph\":{\"id\":\"1173\"},\"selection_glyph\":null,\"view\":{\"id\":\"1176\"}},\"id\":\"1175\",\"type\":\"GlyphRenderer\"},{\"attributes\":{\"children\":[{\"id\":\"1195\"},{\"id\":\"1196\"},{\"id\":\"1198\"}],\"margin\":[0,0,0,0],\"name\":\"Column01796\"},\"id\":\"1194\",\"type\":\"Column\"},{\"attributes\":{\"line_alpha\":0.2,\"line_color\":\"#1f77b3\",\"line_width\":2,\"x\":{\"field\":\"year\"},\"y\":{\"field\":\"gross_rent\"}},\"id\":\"1174\",\"type\":\"Line\"},{\"attributes\":{\"source\":{\"id\":\"1169\"}},\"id\":\"1176\",\"type\":\"CDSView\"}],\"root_ids\":[\"1134\",\"1223\"]},\"title\":\"Bokeh Application\",\"version\":\"2.0.2\"}};\n",
       "  var render_items = [{\"docid\":\"e97a9654-7faa-475f-b3a6-c9ef3a2761c7\",\"root_ids\":[\"1134\"],\"roots\":{\"1134\":\"61d8d02a-770a-4033-ac0c-0dc4fc596d59\"}}];\n",
       "  root.Bokeh.embed.embed_items_notebook(docs_json, render_items);\n",
       "  }\n",
       "if (root.Bokeh !== undefined) {\n",
       "    embed_document(root);\n",
       "  } else {\n",
       "    var attempts = 0;\n",
       "    var timer = setInterval(function(root) {\n",
       "      if (root.Bokeh !== undefined) {\n",
       "        clearInterval(timer);\n",
       "        embed_document(root);\n",
       "      } else if (document.readyState == \"complete\") {\n",
       "        attempts++;\n",
       "        if (attempts > 100) {\n",
       "          clearInterval(timer);\n",
       "          console.log(\"Bokeh: ERROR: Unable to run BokehJS code because BokehJS library is missing\");\n",
       "        }\n",
       "      }\n",
       "    }, 10, root)\n",
       "  }\n",
       "})(window);</script>"
      ],
      "text/plain": [
       ":DynamicMap   [neighborhood]\n",
       "   :Curve   [year]   (gross_rent)"
      ]
     },
     "execution_count": 48,
     "metadata": {
      "application/vnd.holoviews_exec.v0+json": {
       "id": "1134"
      }
     },
     "output_type": "execute_result"
    }
   ],
   "source": [
    "# Use hvplot to create an interactive line chart of the average monthly rent.\n",
    "sf_df.hvplot.line(x = 'year', y = ['gross_rent'],groupby = 'neighborhood')"
   ]
  },
  {
   "cell_type": "markdown",
   "id": "d373baa1",
   "metadata": {},
   "source": [
    "### Top Ten Most Expensive Neighborhoods\n"
   ]
  },
  {
   "cell_type": "code",
   "execution_count": 49,
   "id": "ea14f934",
   "metadata": {},
   "outputs": [
    {
     "data": {
      "text/html": [
       "<div>\n",
       "<style scoped>\n",
       "    .dataframe tbody tr th:only-of-type {\n",
       "        vertical-align: middle;\n",
       "    }\n",
       "\n",
       "    .dataframe tbody tr th {\n",
       "        vertical-align: top;\n",
       "    }\n",
       "\n",
       "    .dataframe thead th {\n",
       "        text-align: right;\n",
       "    }\n",
       "</style>\n",
       "<table border=\"1\" class=\"dataframe\">\n",
       "  <thead>\n",
       "    <tr style=\"text-align: right;\">\n",
       "      <th></th>\n",
       "      <th>neighborhood</th>\n",
       "      <th>sale_price_sqr_foot</th>\n",
       "      <th>housing_units</th>\n",
       "      <th>gross_rent</th>\n",
       "    </tr>\n",
       "  </thead>\n",
       "  <tbody>\n",
       "    <tr>\n",
       "      <th>0</th>\n",
       "      <td>Union Square District</td>\n",
       "      <td>903.993258</td>\n",
       "      <td>377427.50</td>\n",
       "      <td>2555.166667</td>\n",
       "    </tr>\n",
       "    <tr>\n",
       "      <th>1</th>\n",
       "      <td>Merced Heights</td>\n",
       "      <td>788.844818</td>\n",
       "      <td>380348.00</td>\n",
       "      <td>3414.000000</td>\n",
       "    </tr>\n",
       "    <tr>\n",
       "      <th>2</th>\n",
       "      <td>Miraloma Park</td>\n",
       "      <td>779.810842</td>\n",
       "      <td>375967.25</td>\n",
       "      <td>2155.250000</td>\n",
       "    </tr>\n",
       "    <tr>\n",
       "      <th>3</th>\n",
       "      <td>Pacific Heights</td>\n",
       "      <td>689.555817</td>\n",
       "      <td>378401.00</td>\n",
       "      <td>2817.285714</td>\n",
       "    </tr>\n",
       "    <tr>\n",
       "      <th>4</th>\n",
       "      <td>Westwood Park</td>\n",
       "      <td>687.087575</td>\n",
       "      <td>382295.00</td>\n",
       "      <td>3959.000000</td>\n",
       "    </tr>\n",
       "    <tr>\n",
       "      <th>5</th>\n",
       "      <td>Telegraph Hill</td>\n",
       "      <td>676.506578</td>\n",
       "      <td>378401.00</td>\n",
       "      <td>2817.285714</td>\n",
       "    </tr>\n",
       "    <tr>\n",
       "      <th>6</th>\n",
       "      <td>Presidio Heights</td>\n",
       "      <td>675.350212</td>\n",
       "      <td>378401.00</td>\n",
       "      <td>2817.285714</td>\n",
       "    </tr>\n",
       "    <tr>\n",
       "      <th>7</th>\n",
       "      <td>Cow Hollow</td>\n",
       "      <td>665.964042</td>\n",
       "      <td>378401.00</td>\n",
       "      <td>2817.285714</td>\n",
       "    </tr>\n",
       "    <tr>\n",
       "      <th>8</th>\n",
       "      <td>Potrero Hill</td>\n",
       "      <td>662.013613</td>\n",
       "      <td>378401.00</td>\n",
       "      <td>2817.285714</td>\n",
       "    </tr>\n",
       "    <tr>\n",
       "      <th>9</th>\n",
       "      <td>South Beach</td>\n",
       "      <td>650.124479</td>\n",
       "      <td>375805.00</td>\n",
       "      <td>2099.000000</td>\n",
       "    </tr>\n",
       "  </tbody>\n",
       "</table>\n",
       "</div>"
      ],
      "text/plain": [
       "            neighborhood  sale_price_sqr_foot  housing_units   gross_rent\n",
       "0  Union Square District           903.993258      377427.50  2555.166667\n",
       "1         Merced Heights           788.844818      380348.00  3414.000000\n",
       "2          Miraloma Park           779.810842      375967.25  2155.250000\n",
       "3        Pacific Heights           689.555817      378401.00  2817.285714\n",
       "4          Westwood Park           687.087575      382295.00  3959.000000\n",
       "5         Telegraph Hill           676.506578      378401.00  2817.285714\n",
       "6       Presidio Heights           675.350212      378401.00  2817.285714\n",
       "7             Cow Hollow           665.964042      378401.00  2817.285714\n",
       "8           Potrero Hill           662.013613      378401.00  2817.285714\n",
       "9            South Beach           650.124479      375805.00  2099.000000"
      ]
     },
     "execution_count": 49,
     "metadata": {},
     "output_type": "execute_result"
    }
   ],
   "source": [
    "Expensive = sf_data.groupby(by= 'neighborhood').mean().sort_values(by = 'sale_price_sqr_foot', ascending = False, ).reset_index().iloc[:10,:]\n",
    "Expensive"
   ]
  },
  {
   "cell_type": "code",
   "execution_count": 57,
   "id": "35650d7c",
   "metadata": {},
   "outputs": [
    {
     "data": {},
     "metadata": {},
     "output_type": "display_data"
    },
    {
     "data": {
      "application/vnd.holoviews_exec.v0+json": "",
      "text/html": [
       "<div id='1376'>\n",
       "\n",
       "\n",
       "\n",
       "\n",
       "\n",
       "  <div class=\"bk-root\" id=\"f2a32feb-9e90-4c31-9fb0-520d2989666f\" data-root-id=\"1376\"></div>\n",
       "</div>\n",
       "<script type=\"application/javascript\">(function(root) {\n",
       "  function embed_document(root) {\n",
       "  var docs_json = {\"5694f352-9cc5-409a-b41b-06cdfab04412\":{\"roots\":{\"references\":[{\"attributes\":{\"end\":929.3801355198136,\"reset_end\":929.3801355198136,\"reset_start\":0.0,\"tags\":[[[\"sale_price_sqr_foot\",\"sale_price_sqr_foot\",null]]]},\"id\":\"1379\",\"type\":\"Range1d\"},{\"attributes\":{},\"id\":\"1419\",\"type\":\"CategoricalTickFormatter\"},{\"attributes\":{\"callback\":null,\"renderers\":[{\"id\":\"1416\"}],\"tags\":[\"hv_created\"],\"tooltips\":[[\"neighborhood\",\"@{neighborhood}\"],[\"sale_price_sqr_foot\",\"@{sale_price_sqr_foot}\"]]},\"id\":\"1380\",\"type\":\"HoverTool\"},{\"attributes\":{},\"id\":\"1386\",\"type\":\"CategoricalScale\"},{\"attributes\":{},\"id\":\"1397\",\"type\":\"SaveTool\"},{\"attributes\":{\"data_source\":{\"id\":\"1410\"},\"glyph\":{\"id\":\"1413\"},\"hover_glyph\":null,\"muted_glyph\":{\"id\":\"1415\"},\"nonselection_glyph\":{\"id\":\"1414\"},\"selection_glyph\":null,\"view\":{\"id\":\"1417\"}},\"id\":\"1416\",\"type\":\"GlyphRenderer\"},{\"attributes\":{\"margin\":[5,5,5,5],\"name\":\"HSpacer02636\",\"sizing_mode\":\"stretch_width\"},\"id\":\"1430\",\"type\":\"Spacer\"},{\"attributes\":{},\"id\":\"1398\",\"type\":\"PanTool\"},{\"attributes\":{\"below\":[{\"id\":\"1390\"}],\"center\":[{\"id\":\"1392\"},{\"id\":\"1396\"}],\"left\":[{\"id\":\"1393\"}],\"margin\":null,\"min_border_bottom\":10,\"min_border_left\":10,\"min_border_right\":10,\"min_border_top\":10,\"plot_height\":300,\"plot_width\":700,\"renderers\":[{\"id\":\"1416\"}],\"sizing_mode\":\"fixed\",\"title\":{\"id\":\"1382\"},\"toolbar\":{\"id\":\"1403\"},\"x_range\":{\"id\":\"1378\"},\"x_scale\":{\"id\":\"1386\"},\"y_range\":{\"id\":\"1379\"},\"y_scale\":{\"id\":\"1388\"}},\"id\":\"1381\",\"subtype\":\"Figure\",\"type\":\"Plot\"},{\"attributes\":{},\"id\":\"1420\",\"type\":\"BasicTickFormatter\"},{\"attributes\":{\"factors\":[\"Union Square District\",\"Merced Heights\",\"Miraloma Park\",\"Pacific Heights\",\"Westwood Park\",\"Telegraph Hill\",\"Presidio Heights\",\"Cow Hollow\",\"Potrero Hill\",\"South Beach\"],\"tags\":[[[\"neighborhood\",\"neighborhood\",null]]]},\"id\":\"1378\",\"type\":\"FactorRange\"},{\"attributes\":{},\"id\":\"1391\",\"type\":\"CategoricalTicker\"},{\"attributes\":{},\"id\":\"1394\",\"type\":\"BasicTicker\"},{\"attributes\":{},\"id\":\"1411\",\"type\":\"Selection\"},{\"attributes\":{\"axis_label\":\"sale_price_sqr_foot\",\"bounds\":\"auto\",\"formatter\":{\"id\":\"1420\"},\"major_label_orientation\":\"horizontal\",\"ticker\":{\"id\":\"1394\"}},\"id\":\"1393\",\"type\":\"LinearAxis\"},{\"attributes\":{\"margin\":[5,5,5,5],\"name\":\"HSpacer02635\",\"sizing_mode\":\"stretch_width\"},\"id\":\"1377\",\"type\":\"Spacer\"},{\"attributes\":{\"axis\":{\"id\":\"1390\"},\"grid_line_color\":null,\"ticker\":null},\"id\":\"1392\",\"type\":\"Grid\"},{\"attributes\":{\"source\":{\"id\":\"1410\"}},\"id\":\"1417\",\"type\":\"CDSView\"},{\"attributes\":{},\"id\":\"1399\",\"type\":\"WheelZoomTool\"},{\"attributes\":{\"active_drag\":\"auto\",\"active_inspect\":\"auto\",\"active_multi\":null,\"active_scroll\":\"auto\",\"active_tap\":\"auto\",\"tools\":[{\"id\":\"1380\"},{\"id\":\"1397\"},{\"id\":\"1398\"},{\"id\":\"1399\"},{\"id\":\"1400\"},{\"id\":\"1401\"}]},\"id\":\"1403\",\"type\":\"Toolbar\"},{\"attributes\":{\"axis\":{\"id\":\"1393\"},\"dimension\":1,\"grid_line_color\":null,\"ticker\":null},\"id\":\"1396\",\"type\":\"Grid\"},{\"attributes\":{},\"id\":\"1401\",\"type\":\"ResetTool\"},{\"attributes\":{},\"id\":\"1388\",\"type\":\"LinearScale\"},{\"attributes\":{\"fill_alpha\":{\"value\":0.2},\"fill_color\":{\"value\":\"#1f77b3\"},\"line_alpha\":{\"value\":0.2},\"top\":{\"field\":\"sale_price_sqr_foot\"},\"width\":{\"value\":0.8},\"x\":{\"field\":\"neighborhood\"}},\"id\":\"1415\",\"type\":\"VBar\"},{\"attributes\":{\"bottom_units\":\"screen\",\"fill_alpha\":0.5,\"fill_color\":\"lightgrey\",\"left_units\":\"screen\",\"level\":\"overlay\",\"line_alpha\":1.0,\"line_color\":\"black\",\"line_dash\":[4,4],\"line_width\":2,\"render_mode\":\"css\",\"right_units\":\"screen\",\"top_units\":\"screen\"},\"id\":\"1402\",\"type\":\"BoxAnnotation\"},{\"attributes\":{\"axis_label\":\"neighborhood\",\"bounds\":\"auto\",\"formatter\":{\"id\":\"1419\"},\"major_label_orientation\":1.5707963267948966,\"ticker\":{\"id\":\"1391\"}},\"id\":\"1390\",\"type\":\"CategoricalAxis\"},{\"attributes\":{},\"id\":\"1428\",\"type\":\"UnionRenderers\"},{\"attributes\":{\"children\":[{\"id\":\"1377\"},{\"id\":\"1381\"},{\"id\":\"1430\"}],\"margin\":[0,0,0,0],\"name\":\"Row02631\",\"tags\":[\"embedded\"]},\"id\":\"1376\",\"type\":\"Row\"},{\"attributes\":{\"text\":\"\",\"text_color\":{\"value\":\"black\"},\"text_font_size\":{\"value\":\"12pt\"}},\"id\":\"1382\",\"type\":\"Title\"},{\"attributes\":{\"fill_alpha\":{\"value\":0.1},\"fill_color\":{\"value\":\"#1f77b3\"},\"line_alpha\":{\"value\":0.1},\"top\":{\"field\":\"sale_price_sqr_foot\"},\"width\":{\"value\":0.8},\"x\":{\"field\":\"neighborhood\"}},\"id\":\"1414\",\"type\":\"VBar\"},{\"attributes\":{\"data\":{\"neighborhood\":[\"Union Square District\",\"Merced Heights\",\"Miraloma Park\",\"Pacific Heights\",\"Westwood Park\",\"Telegraph Hill\",\"Presidio Heights\",\"Cow Hollow\",\"Potrero Hill\",\"South Beach\"],\"sale_price_sqr_foot\":{\"__ndarray__\":\"JRAUMfI/jEB9IrkvwqaIQFx/3pp8XohAFpsVUHKMhUBs0ERas3iFQL0KhXgNJIVAy835O80ahUANV25bts+EQJrMCuEbsIRAya3y7v5QhEA=\",\"dtype\":\"float64\",\"shape\":[10]}},\"selected\":{\"id\":\"1411\"},\"selection_policy\":{\"id\":\"1428\"}},\"id\":\"1410\",\"type\":\"ColumnDataSource\"},{\"attributes\":{\"overlay\":{\"id\":\"1402\"}},\"id\":\"1400\",\"type\":\"BoxZoomTool\"},{\"attributes\":{\"fill_color\":{\"value\":\"#1f77b3\"},\"top\":{\"field\":\"sale_price_sqr_foot\"},\"width\":{\"value\":0.8},\"x\":{\"field\":\"neighborhood\"}},\"id\":\"1413\",\"type\":\"VBar\"}],\"root_ids\":[\"1376\"]},\"title\":\"Bokeh Application\",\"version\":\"2.0.2\"}};\n",
       "  var render_items = [{\"docid\":\"5694f352-9cc5-409a-b41b-06cdfab04412\",\"root_ids\":[\"1376\"],\"roots\":{\"1376\":\"f2a32feb-9e90-4c31-9fb0-520d2989666f\"}}];\n",
       "  root.Bokeh.embed.embed_items_notebook(docs_json, render_items);\n",
       "  }\n",
       "if (root.Bokeh !== undefined) {\n",
       "    embed_document(root);\n",
       "  } else {\n",
       "    var attempts = 0;\n",
       "    var timer = setInterval(function(root) {\n",
       "      if (root.Bokeh !== undefined) {\n",
       "        clearInterval(timer);\n",
       "        embed_document(root);\n",
       "      } else if (document.readyState == \"complete\") {\n",
       "        attempts++;\n",
       "        if (attempts > 100) {\n",
       "          clearInterval(timer);\n",
       "          console.log(\"Bokeh: ERROR: Unable to run BokehJS code because BokehJS library is missing\");\n",
       "        }\n",
       "      }\n",
       "    }, 10, root)\n",
       "  }\n",
       "})(window);</script>"
      ],
      "text/plain": [
       ":Bars   [neighborhood]   (sale_price_sqr_foot)"
      ]
     },
     "execution_count": 57,
     "metadata": {
      "application/vnd.holoviews_exec.v0+json": {
       "id": "1376"
      }
     },
     "output_type": "execute_result"
    }
   ],
   "source": [
    "# Plotting the data from the top 10 expensive neighborhoods\n",
    "Expensive.hvplot.bar(x = 'neighborhood', y = 'sale_price_sqr_foot', rot = 90)"
   ]
  },
  {
   "cell_type": "code",
   "execution_count": 59,
   "id": "1de10571",
   "metadata": {},
   "outputs": [
    {
     "data": {
      "text/html": [
       "<div>\n",
       "<style scoped>\n",
       "    .dataframe tbody tr th:only-of-type {\n",
       "        vertical-align: middle;\n",
       "    }\n",
       "\n",
       "    .dataframe tbody tr th {\n",
       "        vertical-align: top;\n",
       "    }\n",
       "\n",
       "    .dataframe thead th {\n",
       "        text-align: right;\n",
       "    }\n",
       "</style>\n",
       "<table border=\"1\" class=\"dataframe\">\n",
       "  <thead>\n",
       "    <tr style=\"text-align: right;\">\n",
       "      <th></th>\n",
       "      <th>year</th>\n",
       "      <th>neighborhood</th>\n",
       "      <th>sale_price_sqr_foot</th>\n",
       "      <th>housing_units</th>\n",
       "      <th>gross_rent</th>\n",
       "    </tr>\n",
       "  </thead>\n",
       "  <tbody>\n",
       "    <tr>\n",
       "      <th>0</th>\n",
       "      <td>2010</td>\n",
       "      <td>Alamo Square</td>\n",
       "      <td>291.182945</td>\n",
       "      <td>372560</td>\n",
       "      <td>1239</td>\n",
       "    </tr>\n",
       "    <tr>\n",
       "      <th>1</th>\n",
       "      <td>2010</td>\n",
       "      <td>Anza Vista</td>\n",
       "      <td>267.932583</td>\n",
       "      <td>372560</td>\n",
       "      <td>1239</td>\n",
       "    </tr>\n",
       "    <tr>\n",
       "      <th>2</th>\n",
       "      <td>2010</td>\n",
       "      <td>Bayview</td>\n",
       "      <td>170.098665</td>\n",
       "      <td>372560</td>\n",
       "      <td>1239</td>\n",
       "    </tr>\n",
       "    <tr>\n",
       "      <th>3</th>\n",
       "      <td>2010</td>\n",
       "      <td>Buena Vista Park</td>\n",
       "      <td>347.394919</td>\n",
       "      <td>372560</td>\n",
       "      <td>1239</td>\n",
       "    </tr>\n",
       "    <tr>\n",
       "      <th>4</th>\n",
       "      <td>2010</td>\n",
       "      <td>Central Richmond</td>\n",
       "      <td>319.027623</td>\n",
       "      <td>372560</td>\n",
       "      <td>1239</td>\n",
       "    </tr>\n",
       "    <tr>\n",
       "      <th>5</th>\n",
       "      <td>2010</td>\n",
       "      <td>Central Sunset</td>\n",
       "      <td>418.172493</td>\n",
       "      <td>372560</td>\n",
       "      <td>1239</td>\n",
       "    </tr>\n",
       "    <tr>\n",
       "      <th>6</th>\n",
       "      <td>2010</td>\n",
       "      <td>Corona Heights</td>\n",
       "      <td>369.359338</td>\n",
       "      <td>372560</td>\n",
       "      <td>1239</td>\n",
       "    </tr>\n",
       "    <tr>\n",
       "      <th>7</th>\n",
       "      <td>2010</td>\n",
       "      <td>Cow Hollow</td>\n",
       "      <td>569.379968</td>\n",
       "      <td>372560</td>\n",
       "      <td>1239</td>\n",
       "    </tr>\n",
       "    <tr>\n",
       "      <th>8</th>\n",
       "      <td>2010</td>\n",
       "      <td>Croker Amazon</td>\n",
       "      <td>165.645730</td>\n",
       "      <td>372560</td>\n",
       "      <td>1239</td>\n",
       "    </tr>\n",
       "    <tr>\n",
       "      <th>9</th>\n",
       "      <td>2010</td>\n",
       "      <td>Diamond Heights</td>\n",
       "      <td>456.930822</td>\n",
       "      <td>372560</td>\n",
       "      <td>1239</td>\n",
       "    </tr>\n",
       "  </tbody>\n",
       "</table>\n",
       "</div>"
      ],
      "text/plain": [
       "   year      neighborhood  sale_price_sqr_foot  housing_units  gross_rent\n",
       "0  2010      Alamo Square           291.182945         372560        1239\n",
       "1  2010        Anza Vista           267.932583         372560        1239\n",
       "2  2010           Bayview           170.098665         372560        1239\n",
       "3  2010  Buena Vista Park           347.394919         372560        1239\n",
       "4  2010  Central Richmond           319.027623         372560        1239\n",
       "5  2010    Central Sunset           418.172493         372560        1239\n",
       "6  2010    Corona Heights           369.359338         372560        1239\n",
       "7  2010        Cow Hollow           569.379968         372560        1239\n",
       "8  2010     Croker Amazon           165.645730         372560        1239\n",
       "9  2010   Diamond Heights           456.930822         372560        1239"
      ]
     },
     "execution_count": 59,
     "metadata": {},
     "output_type": "execute_result"
    }
   ],
   "source": [
    "# Fetch the previously generated DataFrame that was grouped by year and neighborhood\n",
    "sf_df.head(10)"
   ]
  },
  {
   "cell_type": "markdown",
   "id": "4acdee59",
   "metadata": {},
   "source": [
    "#### Plotting the data from the top 10 expensive neighborhoods"
   ]
  },
  {
   "cell_type": "code",
   "execution_count": 60,
   "id": "ae11198a",
   "metadata": {},
   "outputs": [
    {
     "data": {},
     "metadata": {},
     "output_type": "display_data"
    },
    {
     "data": {
      "application/vnd.holoviews_exec.v0+json": "",
      "text/html": [
       "<div id='1472'>\n",
       "\n",
       "\n",
       "\n",
       "\n",
       "\n",
       "  <div class=\"bk-root\" id=\"cf8fcfc7-dfed-4949-b329-4d8d53488bdd\" data-root-id=\"1472\"></div>\n",
       "</div>\n",
       "<script type=\"application/javascript\">(function(root) {\n",
       "  function embed_document(root) {\n",
       "  var docs_json = {\"7cc46152-49e9-46fa-afd2-db71355cc207\":{\"roots\":{\"references\":[{\"attributes\":{},\"id\":\"1493\",\"type\":\"SaveTool\"},{\"attributes\":{},\"id\":\"1490\",\"type\":\"BasicTicker\"},{\"attributes\":{},\"id\":\"1494\",\"type\":\"PanTool\"},{\"attributes\":{},\"id\":\"1484\",\"type\":\"LinearScale\"},{\"attributes\":{},\"id\":\"1515\",\"type\":\"CategoricalTickFormatter\"},{\"attributes\":{\"below\":[{\"id\":\"1486\"}],\"center\":[{\"id\":\"1488\"},{\"id\":\"1492\"}],\"left\":[{\"id\":\"1489\"}],\"margin\":null,\"min_border_bottom\":10,\"min_border_left\":10,\"min_border_right\":10,\"min_border_top\":10,\"plot_height\":300,\"plot_width\":700,\"renderers\":[{\"id\":\"1512\"}],\"sizing_mode\":\"fixed\",\"title\":{\"id\":\"1478\"},\"toolbar\":{\"id\":\"1499\"},\"x_range\":{\"id\":\"1474\"},\"x_scale\":{\"id\":\"1482\"},\"y_range\":{\"id\":\"1475\"},\"y_scale\":{\"id\":\"1484\"}},\"id\":\"1477\",\"subtype\":\"Figure\",\"type\":\"Plot\"},{\"attributes\":{\"axis\":{\"id\":\"1489\"},\"dimension\":1,\"grid_line_color\":null,\"ticker\":null},\"id\":\"1492\",\"type\":\"Grid\"},{\"attributes\":{\"text\":\"\",\"text_color\":{\"value\":\"black\"},\"text_font_size\":{\"value\":\"12pt\"}},\"id\":\"1478\",\"type\":\"Title\"},{\"attributes\":{\"fill_color\":{\"value\":\"#1f77b3\"},\"top\":{\"field\":\"sale_price_sqr_foot\"},\"width\":{\"value\":0.8},\"x\":{\"field\":\"neighborhood\"}},\"id\":\"1509\",\"type\":\"VBar\"},{\"attributes\":{},\"id\":\"1497\",\"type\":\"ResetTool\"},{\"attributes\":{\"axis\":{\"id\":\"1486\"},\"grid_line_color\":null,\"ticker\":null},\"id\":\"1488\",\"type\":\"Grid\"},{\"attributes\":{},\"id\":\"1495\",\"type\":\"WheelZoomTool\"},{\"attributes\":{},\"id\":\"1516\",\"type\":\"BasicTickFormatter\"},{\"attributes\":{\"factors\":[\"Alamo Square\",\"Anza Vista\",\"Bayview\",\"Buena Vista Park\",\"Central Richmond\",\"Central Sunset\",\"Corona Heights\",\"Cow Hollow\",\"Croker Amazon\",\"Diamond Heights\",\"Downtown \",\"Eureka Valley/Dolores Heights\",\"Excelsior\",\"Financial District North\",\"Financial District South\",\"Forest Knolls\",\"Glen Park\",\"Golden Gate Heights\",\"Haight Ashbury\",\"Hayes Valley\",\"Hunters Point\",\"Ingleside \",\"Inner Mission\",\"Inner Parkside\",\"Inner Richmond\",\"Inner Sunset\",\"Jordan Park/Laurel Heights\",\"Lake --The Presidio\",\"Lone Mountain\",\"Lower Pacific Heights\",\"Marina\",\"Miraloma Park\",\"Mission Bay\",\"Mission Dolores\",\"Mission Terrace\",\"Nob Hill\",\"Noe Valley\",\"Oceanview\",\"Outer Parkside\",\"Outer Richmond \",\"Outer Sunset\",\"Pacific Heights\",\"Park North\",\"Parkside\",\"Parnassus/Ashbury Heights\",\"Portola\",\"Potrero Hill\",\"Presidio Heights\",\"Russian Hill\",\"South Beach\",\"South of Market\",\"Sunnyside\",\"Telegraph Hill\",\"Twin Peaks\",\"Union Square District\",\"Van Ness/ Civic Center\",\"West Portal\",\"Western Addition\",\"Yerba Buena\",\"Bernal Heights \",\"Clarendon Heights\",\"Duboce Triangle\",\"Ingleside Heights\",\"North Beach\",\"North Waterfront\",\"Outer Mission\",\"Westwood Highlands\",\"Merced Heights\",\"Midtown Terrace\",\"Visitacion Valley\",\"Silver Terrace\",\"Westwood Park\",\"Bayview Heights\"],\"tags\":[[[\"neighborhood\",\"neighborhood\",null]]]},\"id\":\"1474\",\"type\":\"FactorRange\"},{\"attributes\":{\"overlay\":{\"id\":\"1498\"}},\"id\":\"1496\",\"type\":\"BoxZoomTool\"},{\"attributes\":{\"data\":{\"neighborhood\":[\"Alamo Square\",\"Anza Vista\",\"Bayview\",\"Buena Vista Park\",\"Central Richmond\",\"Central Sunset\",\"Corona Heights\",\"Cow Hollow\",\"Croker Amazon\",\"Diamond Heights\",\"Downtown \",\"Eureka Valley/Dolores Heights\",\"Excelsior\",\"Financial District North\",\"Financial District South\",\"Forest Knolls\",\"Glen Park\",\"Golden Gate Heights\",\"Haight Ashbury\",\"Hayes Valley\",\"Hunters Point\",\"Ingleside \",\"Inner Mission\",\"Inner Parkside\",\"Inner Richmond\",\"Inner Sunset\",\"Jordan Park/Laurel Heights\",\"Lake --The Presidio\",\"Lone Mountain\",\"Lower Pacific Heights\",\"Marina\",\"Miraloma Park\",\"Mission Bay\",\"Mission Dolores\",\"Mission Terrace\",\"Nob Hill\",\"Noe Valley\",\"Oceanview\",\"Outer Parkside\",\"Outer Richmond \",\"Outer Sunset\",\"Pacific Heights\",\"Park North\",\"Parkside\",\"Parnassus/Ashbury Heights\",\"Portola\",\"Potrero Hill\",\"Presidio Heights\",\"Russian Hill\",\"South Beach\",\"South of Market\",\"Sunnyside\",\"Telegraph Hill\",\"Twin Peaks\",\"Union Square District\",\"Van Ness/ Civic Center\",\"West Portal\",\"Western Addition\",\"Yerba Buena\",\"Alamo Square\",\"Bayview\",\"Bernal Heights \",\"Buena Vista Park\",\"Central Richmond\",\"Central Sunset\",\"Clarendon Heights\",\"Corona Heights\",\"Cow Hollow\",\"Croker Amazon\",\"Diamond Heights\",\"Downtown \",\"Duboce Triangle\",\"Eureka Valley/Dolores Heights\",\"Financial District North\",\"Financial District South\",\"Glen Park\",\"Golden Gate Heights\",\"Haight Ashbury\",\"Hayes Valley\",\"Ingleside \",\"Ingleside Heights\",\"Inner Mission\",\"Inner Richmond\",\"Inner Sunset\",\"Jordan Park/Laurel Heights\",\"Lake --The Presidio\",\"Lone Mountain\",\"Lower Pacific Heights\",\"Marina\",\"Miraloma Park\",\"Mission Bay\",\"Mission Dolores\",\"Nob Hill\",\"Noe Valley\",\"North Beach\",\"North Waterfront\",\"Outer Mission\",\"Outer Parkside\",\"Outer Richmond \",\"Outer Sunset\",\"Pacific Heights\",\"Park North\",\"Parkside\",\"Parnassus/Ashbury Heights\",\"Portola\",\"Potrero Hill\",\"Presidio Heights\",\"Russian Hill\",\"South Beach\",\"South of Market\",\"Sunnyside\",\"Telegraph Hill\",\"Twin Peaks\",\"Union Square District\",\"Van Ness/ Civic Center\",\"Western Addition\",\"Westwood Highlands\",\"Yerba Buena\",\"Alamo Square\",\"Anza Vista\",\"Bayview\",\"Bernal Heights \",\"Buena Vista Park\",\"Central Richmond\",\"Central Sunset\",\"Corona Heights\",\"Cow Hollow\",\"Croker Amazon\",\"Diamond Heights\",\"Downtown \",\"Duboce Triangle\",\"Eureka Valley/Dolores Heights\",\"Excelsior\",\"Financial District North\",\"Financial District South\",\"Forest Knolls\",\"Haight Ashbury\",\"Hayes Valley\",\"Inner Mission\",\"Inner Richmond\",\"Inner Sunset\",\"Jordan Park/Laurel Heights\",\"Lake --The Presidio\",\"Lone Mountain\",\"Lower Pacific Heights\",\"Marina\",\"Merced Heights\",\"Midtown Terrace\",\"Miraloma Park\",\"Mission Bay\",\"Mission Dolores\",\"Nob Hill\",\"Noe Valley\",\"North Beach\",\"North Waterfront\",\"Oceanview\",\"Outer Mission\",\"Outer Parkside\",\"Outer Richmond \",\"Outer Sunset\",\"Pacific Heights\",\"Park North\",\"Parkside\",\"Parnassus/Ashbury Heights\",\"Portola\",\"Potrero Hill\",\"Presidio Heights\",\"Russian Hill\",\"South of Market\",\"Telegraph Hill\",\"Twin Peaks\",\"Union Square District\",\"Van Ness/ Civic Center\",\"West Portal\",\"Western Addition\",\"Yerba Buena\",\"Alamo Square\",\"Anza Vista\",\"Bayview\",\"Bernal Heights \",\"Buena Vista Park\",\"Central Richmond\",\"Central Sunset\",\"Clarendon Heights\",\"Cow Hollow\",\"Croker Amazon\",\"Diamond Heights\",\"Downtown \",\"Eureka Valley/Dolores Heights\",\"Excelsior\",\"Financial District North\",\"Glen Park\",\"Golden Gate Heights\",\"Haight Ashbury\",\"Hayes Valley\",\"Inner Mission\",\"Inner Richmond\",\"Inner Sunset\",\"Jordan Park/Laurel Heights\",\"Lake --The Presidio\",\"Lone Mountain\",\"Lower Pacific Heights\",\"Marina\",\"Midtown Terrace\",\"Mission Bay\",\"Mission Dolores\",\"Mission Terrace\",\"Nob Hill\",\"Noe Valley\",\"North Beach\",\"North Waterfront\",\"Outer Parkside\",\"Outer Richmond \",\"Outer Sunset\",\"Pacific Heights\",\"Park North\",\"Parkside\",\"Parnassus/Ashbury Heights\",\"Portola\",\"Potrero Hill\",\"Presidio Heights\",\"Russian Hill\",\"South of Market\",\"Sunnyside\",\"Telegraph Hill\",\"Twin Peaks\",\"Union Square District\",\"Van Ness/ Civic Center\",\"Visitacion Valley\",\"West Portal\",\"Western Addition\",\"Westwood Highlands\",\"Yerba Buena\",\"Alamo Square\",\"Anza Vista\",\"Bayview\",\"Bernal Heights \",\"Central Richmond\",\"Central Sunset\",\"Corona Heights\",\"Cow Hollow\",\"Downtown \",\"Duboce Triangle\",\"Eureka Valley/Dolores Heights\",\"Excelsior\",\"Financial District North\",\"Financial District South\",\"Glen Park\",\"Golden Gate Heights\",\"Haight Ashbury\",\"Hayes Valley\",\"Ingleside \",\"Inner Mission\",\"Inner Parkside\",\"Inner Richmond\",\"Inner Sunset\",\"Jordan Park/Laurel Heights\",\"Lake --The Presidio\",\"Lone Mountain\",\"Lower Pacific Heights\",\"Marina\",\"Merced Heights\",\"Miraloma Park\",\"Mission Bay\",\"Mission Dolores\",\"Mission Terrace\",\"Nob Hill\",\"Noe Valley\",\"North Waterfront\",\"Outer Parkside\",\"Outer Richmond \",\"Outer Sunset\",\"Pacific Heights\",\"Park North\",\"Parkside\",\"Parnassus/Ashbury Heights\",\"Portola\",\"Potrero Hill\",\"Presidio Heights\",\"Russian Hill\",\"Silver Terrace\",\"South Beach\",\"South of Market\",\"Sunnyside\",\"Telegraph Hill\",\"Twin Peaks\",\"Union Square District\",\"Van Ness/ Civic Center\",\"Visitacion Valley\",\"West Portal\",\"Western Addition\",\"Westwood Park\",\"Yerba Buena\",\"Alamo Square\",\"Anza Vista\",\"Bayview Heights\",\"Bernal Heights \",\"Buena Vista Park\",\"Central Richmond\",\"Central Sunset\",\"Corona Heights\",\"Cow Hollow\",\"Croker Amazon\",\"Downtown \",\"Duboce Triangle\",\"Eureka Valley/Dolores Heights\",\"Excelsior\",\"Financial District North\",\"Financial District South\",\"Glen Park\",\"Golden Gate Heights\",\"Haight Ashbury\",\"Hayes Valley\",\"Hunters Point\",\"Ingleside \",\"Inner Mission\",\"Inner Parkside\",\"Inner Richmond\",\"Inner Sunset\",\"Jordan Park/Laurel Heights\",\"Lake --The Presidio\",\"Lone Mountain\",\"Lower Pacific Heights\",\"Marina\",\"Mission Dolores\",\"Mission Terrace\",\"Nob Hill\",\"Noe Valley\",\"North Beach\",\"North Waterfront\",\"Oceanview\",\"Outer Mission\",\"Outer Parkside\",\"Outer Richmond \",\"Outer Sunset\",\"Pacific Heights\",\"Park North\",\"Parkside\",\"Parnassus/Ashbury Heights\",\"Potrero Hill\",\"Presidio Heights\",\"Russian Hill\",\"South of Market\",\"Sunnyside\",\"Telegraph Hill\",\"Twin Peaks\",\"Union Square District\",\"Van Ness/ Civic Center\",\"Visitacion Valley\",\"Western Addition\",\"Yerba Buena\",\"Alamo Square\",\"Anza Vista\",\"Bernal Heights \",\"Buena Vista Park\",\"Central Richmond\",\"Central Sunset\",\"Cow Hollow\",\"Croker Amazon\",\"Downtown \",\"Eureka Valley/Dolores Heights\",\"Excelsior\",\"Financial District North\",\"Glen Park\",\"Haight Ashbury\",\"Hayes Valley\",\"Ingleside Heights\",\"Inner Mission\",\"Inner Parkside\",\"Inner Richmond\",\"Inner Sunset\",\"Jordan Park/Laurel Heights\",\"Lower Pacific Heights\",\"Marina\",\"Merced Heights\",\"Mission Bay\",\"Mission Terrace\",\"Nob Hill\",\"Noe Valley\",\"North Beach\",\"Outer Mission\",\"Outer Parkside\",\"Outer Richmond \",\"Outer Sunset\",\"Pacific Heights\",\"Park North\",\"Parnassus/Ashbury Heights\",\"Potrero Hill\",\"Presidio Heights\",\"Russian Hill\",\"South of Market\",\"Sunnyside\",\"Telegraph Hill\",\"Twin Peaks\",\"Van Ness/ Civic Center\",\"Visitacion Valley\",\"Westwood Park\"],\"sale_price_sqr_foot\":{\"__ndarray__\":\"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\",\"dtype\":\"float64\",\"shape\":[397]}},\"selected\":{\"id\":\"1507\"},\"selection_policy\":{\"id\":\"1524\"}},\"id\":\"1506\",\"type\":\"ColumnDataSource\"},{\"attributes\":{},\"id\":\"1524\",\"type\":\"UnionRenderers\"},{\"attributes\":{},\"id\":\"1507\",\"type\":\"Selection\"},{\"attributes\":{\"end\":2480.495852663006,\"reset_end\":2480.495852663006,\"reset_start\":0.0,\"tags\":[[[\"sale_price_sqr_foot\",\"sale_price_sqr_foot\",null]]]},\"id\":\"1475\",\"type\":\"Range1d\"},{\"attributes\":{},\"id\":\"1487\",\"type\":\"CategoricalTicker\"},{\"attributes\":{\"active_drag\":\"auto\",\"active_inspect\":\"auto\",\"active_multi\":null,\"active_scroll\":\"auto\",\"active_tap\":\"auto\",\"tools\":[{\"id\":\"1476\"},{\"id\":\"1493\"},{\"id\":\"1494\"},{\"id\":\"1495\"},{\"id\":\"1496\"},{\"id\":\"1497\"}]},\"id\":\"1499\",\"type\":\"Toolbar\"},{\"attributes\":{\"fill_alpha\":{\"value\":0.2},\"fill_color\":{\"value\":\"#1f77b3\"},\"line_alpha\":{\"value\":0.2},\"top\":{\"field\":\"sale_price_sqr_foot\"},\"width\":{\"value\":0.8},\"x\":{\"field\":\"neighborhood\"}},\"id\":\"1511\",\"type\":\"VBar\"},{\"attributes\":{\"margin\":[5,5,5,5],\"name\":\"HSpacer02788\",\"sizing_mode\":\"stretch_width\"},\"id\":\"1473\",\"type\":\"Spacer\"},{\"attributes\":{},\"id\":\"1482\",\"type\":\"CategoricalScale\"},{\"attributes\":{\"data_source\":{\"id\":\"1506\"},\"glyph\":{\"id\":\"1509\"},\"hover_glyph\":null,\"muted_glyph\":{\"id\":\"1511\"},\"nonselection_glyph\":{\"id\":\"1510\"},\"selection_glyph\":null,\"view\":{\"id\":\"1513\"}},\"id\":\"1512\",\"type\":\"GlyphRenderer\"},{\"attributes\":{\"fill_alpha\":{\"value\":0.1},\"fill_color\":{\"value\":\"#1f77b3\"},\"line_alpha\":{\"value\":0.1},\"top\":{\"field\":\"sale_price_sqr_foot\"},\"width\":{\"value\":0.8},\"x\":{\"field\":\"neighborhood\"}},\"id\":\"1510\",\"type\":\"VBar\"},{\"attributes\":{\"margin\":[5,5,5,5],\"name\":\"HSpacer02789\",\"sizing_mode\":\"stretch_width\"},\"id\":\"1526\",\"type\":\"Spacer\"},{\"attributes\":{\"callback\":null,\"renderers\":[{\"id\":\"1512\"}],\"tags\":[\"hv_created\"],\"tooltips\":[[\"neighborhood\",\"@{neighborhood}\"],[\"sale_price_sqr_foot\",\"@{sale_price_sqr_foot}\"]]},\"id\":\"1476\",\"type\":\"HoverTool\"},{\"attributes\":{\"source\":{\"id\":\"1506\"}},\"id\":\"1513\",\"type\":\"CDSView\"},{\"attributes\":{\"bottom_units\":\"screen\",\"fill_alpha\":0.5,\"fill_color\":\"lightgrey\",\"left_units\":\"screen\",\"level\":\"overlay\",\"line_alpha\":1.0,\"line_color\":\"black\",\"line_dash\":[4,4],\"line_width\":2,\"render_mode\":\"css\",\"right_units\":\"screen\",\"top_units\":\"screen\"},\"id\":\"1498\",\"type\":\"BoxAnnotation\"},{\"attributes\":{\"children\":[{\"id\":\"1473\"},{\"id\":\"1477\"},{\"id\":\"1526\"}],\"margin\":[0,0,0,0],\"name\":\"Row02784\",\"tags\":[\"embedded\"]},\"id\":\"1472\",\"type\":\"Row\"},{\"attributes\":{\"axis_label\":\"neighborhood\",\"bounds\":\"auto\",\"formatter\":{\"id\":\"1515\"},\"major_label_orientation\":1.5707963267948966,\"ticker\":{\"id\":\"1487\"}},\"id\":\"1486\",\"type\":\"CategoricalAxis\"},{\"attributes\":{\"axis_label\":\"sale_price_sqr_foot\",\"bounds\":\"auto\",\"formatter\":{\"id\":\"1516\"},\"major_label_orientation\":\"horizontal\",\"ticker\":{\"id\":\"1490\"}},\"id\":\"1489\",\"type\":\"LinearAxis\"}],\"root_ids\":[\"1472\"]},\"title\":\"Bokeh Application\",\"version\":\"2.0.2\"}};\n",
       "  var render_items = [{\"docid\":\"7cc46152-49e9-46fa-afd2-db71355cc207\",\"root_ids\":[\"1472\"],\"roots\":{\"1472\":\"cf8fcfc7-dfed-4949-b329-4d8d53488bdd\"}}];\n",
       "  root.Bokeh.embed.embed_items_notebook(docs_json, render_items);\n",
       "  }\n",
       "if (root.Bokeh !== undefined) {\n",
       "    embed_document(root);\n",
       "  } else {\n",
       "    var attempts = 0;\n",
       "    var timer = setInterval(function(root) {\n",
       "      if (root.Bokeh !== undefined) {\n",
       "        clearInterval(timer);\n",
       "        embed_document(root);\n",
       "      } else if (document.readyState == \"complete\") {\n",
       "        attempts++;\n",
       "        if (attempts > 100) {\n",
       "          clearInterval(timer);\n",
       "          console.log(\"Bokeh: ERROR: Unable to run BokehJS code because BokehJS library is missing\");\n",
       "        }\n",
       "      }\n",
       "    }, 10, root)\n",
       "  }\n",
       "})(window);</script>"
      ],
      "text/plain": [
       ":Bars   [neighborhood]   (sale_price_sqr_foot)"
      ]
     },
     "execution_count": 60,
     "metadata": {
      "application/vnd.holoviews_exec.v0+json": {
       "id": "1472"
      }
     },
     "output_type": "execute_result"
    }
   ],
   "source": [
    "sf_df.hvplot.bar(x = 'neighborhood', y = 'sale_price_sqr_foot', rot = 90)"
   ]
  },
  {
   "cell_type": "code",
   "execution_count": 63,
   "id": "bbf94f98",
   "metadata": {},
   "outputs": [
    {
     "data": {},
     "metadata": {},
     "output_type": "display_data"
    },
    {
     "data": {
      "application/vnd.holoviews_exec.v0+json": "",
      "text/html": [
       "<div id='1757'>\n",
       "\n",
       "\n",
       "\n",
       "\n",
       "\n",
       "  <div class=\"bk-root\" id=\"3fb7f690-0b67-402f-931b-11b2792d7942\" data-root-id=\"1757\"></div>\n",
       "</div>\n",
       "<script type=\"application/javascript\">(function(root) {\n",
       "  function embed_document(root) {\n",
       "  var docs_json = {\"a13a6d98-7ed4-4dad-bf1c-5a28bc33ef16\":{\"roots\":{\"references\":[{\"attributes\":{\"below\":[{\"id\":\"1771\"}],\"center\":[{\"id\":\"1773\"},{\"id\":\"1777\"}],\"left\":[{\"id\":\"1774\"}],\"margin\":null,\"min_border_bottom\":10,\"min_border_left\":10,\"min_border_right\":10,\"min_border_top\":10,\"plot_height\":300,\"plot_width\":700,\"renderers\":[{\"id\":\"1797\"}],\"sizing_mode\":\"fixed\",\"title\":{\"id\":\"1763\"},\"toolbar\":{\"id\":\"1784\"},\"x_range\":{\"id\":\"1759\"},\"x_scale\":{\"id\":\"1767\"},\"y_range\":{\"id\":\"1760\"},\"y_scale\":{\"id\":\"1769\"}},\"id\":\"1762\",\"subtype\":\"Figure\",\"type\":\"Plot\"},{\"attributes\":{\"axis_label\":\"neighborhood\",\"bounds\":\"auto\",\"formatter\":{\"id\":\"1800\"},\"major_label_orientation\":1.5707963267948966,\"ticker\":{\"id\":\"1772\"}},\"id\":\"1771\",\"type\":\"CategoricalAxis\"},{\"attributes\":{\"data\":{\"gross_rent\":[1239,1239,1239,1239,1239,1239,1239,1239,1239,1239,1239,1239,1239,1239,1239,1239,1239,1239,1239,1239,1239,1239,1239,1239,1239,1239,1239,1239,1239,1239,1239,1239,1239,1239,1239,1239,1239,1239,1239,1239,1239,1239,1239,1239,1239,1239,1239,1239,1239,1239,1239,1239,1239,1239,1239,1239,1239,1239,1239,1530,1530,1530,1530,1530,1530,1530,1530,1530,1530,1530,1530,1530,1530,1530,1530,1530,1530,1530,1530,1530,1530,1530,1530,1530,1530,1530,1530,1530,1530,1530,1530,1530,1530,1530,1530,1530,1530,1530,1530,1530,1530,1530,1530,1530,1530,1530,1530,1530,1530,1530,1530,1530,1530,1530,1530,1530,1530,1530,2324,2324,2324,2324,2324,2324,2324,2324,2324,2324,2324,2324,2324,2324,2324,2324,2324,2324,2324,2324,2324,2324,2324,2324,2324,2324,2324,2324,2324,2324,2324,2324,2324,2324,2324,2324,2324,2324,2324,2324,2324,2324,2324,2324,2324,2324,2324,2324,2324,2324,2324,2324,2324,2324,2324,2324,2324,2324,2971,2971,2971,2971,2971,2971,2971,2971,2971,2971,2971,2971,2971,2971,2971,2971,2971,2971,2971,2971,2971,2971,2971,2971,2971,2971,2971,2971,2971,2971,2971,2971,2971,2971,2971,2971,2971,2971,2971,2971,2971,2971,2971,2971,2971,2971,2971,2971,2971,2971,2971,2971,2971,2971,2971,2971,2971,3528,3528,3528,3528,3528,3528,3528,3528,3528,3528,3528,3528,3528,3528,3528,3528,3528,3528,3528,3528,3528,3528,3528,3528,3528,3528,3528,3528,3528,3528,3528,3528,3528,3528,3528,3528,3528,3528,3528,3528,3528,3528,3528,3528,3528,3528,3528,3528,3528,3528,3528,3528,3528,3528,3528,3528,3528,3528,3528,3528,3739,3739,3739,3739,3739,3739,3739,3739,3739,3739,3739,3739,3739,3739,3739,3739,3739,3739,3739,3739,3739,3739,3739,3739,3739,3739,3739,3739,3739,3739,3739,3739,3739,3739,3739,3739,3739,3739,3739,3739,3739,3739,3739,3739,3739,3739,3739,3739,3739,3739,3739,3739,3739,3739,3739,3739,3739,3739,4390,4390,4390,4390,4390,4390,4390,4390,4390,4390,4390,4390,4390,4390,4390,4390,4390,4390,4390,4390,4390,4390,4390,4390,4390,4390,4390,4390,4390,4390,4390,4390,4390,4390,4390,4390,4390,4390,4390,4390,4390,4390,4390,4390,4390,4390],\"neighborhood\":[\"Alamo Square\",\"Anza Vista\",\"Bayview\",\"Buena Vista Park\",\"Central Richmond\",\"Central Sunset\",\"Corona Heights\",\"Cow Hollow\",\"Croker Amazon\",\"Diamond Heights\",\"Downtown \",\"Eureka Valley/Dolores Heights\",\"Excelsior\",\"Financial District North\",\"Financial District South\",\"Forest Knolls\",\"Glen Park\",\"Golden Gate Heights\",\"Haight Ashbury\",\"Hayes Valley\",\"Hunters Point\",\"Ingleside \",\"Inner Mission\",\"Inner Parkside\",\"Inner Richmond\",\"Inner Sunset\",\"Jordan Park/Laurel Heights\",\"Lake --The Presidio\",\"Lone Mountain\",\"Lower Pacific Heights\",\"Marina\",\"Miraloma Park\",\"Mission Bay\",\"Mission Dolores\",\"Mission Terrace\",\"Nob Hill\",\"Noe Valley\",\"Oceanview\",\"Outer Parkside\",\"Outer Richmond \",\"Outer Sunset\",\"Pacific Heights\",\"Park North\",\"Parkside\",\"Parnassus/Ashbury Heights\",\"Portola\",\"Potrero Hill\",\"Presidio Heights\",\"Russian Hill\",\"South Beach\",\"South of Market\",\"Sunnyside\",\"Telegraph Hill\",\"Twin Peaks\",\"Union Square District\",\"Van Ness/ Civic Center\",\"West Portal\",\"Western Addition\",\"Yerba Buena\",\"Alamo Square\",\"Bayview\",\"Bernal Heights \",\"Buena Vista Park\",\"Central Richmond\",\"Central Sunset\",\"Clarendon Heights\",\"Corona Heights\",\"Cow Hollow\",\"Croker Amazon\",\"Diamond Heights\",\"Downtown \",\"Duboce Triangle\",\"Eureka Valley/Dolores Heights\",\"Financial District North\",\"Financial District South\",\"Glen Park\",\"Golden Gate Heights\",\"Haight Ashbury\",\"Hayes Valley\",\"Ingleside \",\"Ingleside Heights\",\"Inner Mission\",\"Inner Richmond\",\"Inner Sunset\",\"Jordan Park/Laurel Heights\",\"Lake --The Presidio\",\"Lone Mountain\",\"Lower Pacific Heights\",\"Marina\",\"Miraloma Park\",\"Mission Bay\",\"Mission Dolores\",\"Nob Hill\",\"Noe Valley\",\"North Beach\",\"North Waterfront\",\"Outer Mission\",\"Outer Parkside\",\"Outer Richmond \",\"Outer Sunset\",\"Pacific Heights\",\"Park North\",\"Parkside\",\"Parnassus/Ashbury Heights\",\"Portola\",\"Potrero Hill\",\"Presidio Heights\",\"Russian Hill\",\"South Beach\",\"South of Market\",\"Sunnyside\",\"Telegraph Hill\",\"Twin Peaks\",\"Union Square District\",\"Van Ness/ Civic Center\",\"Western Addition\",\"Westwood Highlands\",\"Yerba Buena\",\"Alamo Square\",\"Anza Vista\",\"Bayview\",\"Bernal Heights \",\"Buena Vista Park\",\"Central Richmond\",\"Central Sunset\",\"Corona Heights\",\"Cow Hollow\",\"Croker Amazon\",\"Diamond Heights\",\"Downtown \",\"Duboce Triangle\",\"Eureka Valley/Dolores Heights\",\"Excelsior\",\"Financial District North\",\"Financial District South\",\"Forest Knolls\",\"Haight Ashbury\",\"Hayes Valley\",\"Inner Mission\",\"Inner Richmond\",\"Inner Sunset\",\"Jordan Park/Laurel Heights\",\"Lake --The Presidio\",\"Lone Mountain\",\"Lower Pacific Heights\",\"Marina\",\"Merced Heights\",\"Midtown Terrace\",\"Miraloma Park\",\"Mission Bay\",\"Mission Dolores\",\"Nob Hill\",\"Noe Valley\",\"North Beach\",\"North Waterfront\",\"Oceanview\",\"Outer Mission\",\"Outer Parkside\",\"Outer Richmond \",\"Outer Sunset\",\"Pacific Heights\",\"Park North\",\"Parkside\",\"Parnassus/Ashbury Heights\",\"Portola\",\"Potrero Hill\",\"Presidio Heights\",\"Russian Hill\",\"South of Market\",\"Telegraph Hill\",\"Twin Peaks\",\"Union Square District\",\"Van Ness/ Civic Center\",\"West Portal\",\"Western Addition\",\"Yerba Buena\",\"Alamo Square\",\"Anza Vista\",\"Bayview\",\"Bernal Heights \",\"Buena Vista Park\",\"Central Richmond\",\"Central Sunset\",\"Clarendon Heights\",\"Cow Hollow\",\"Croker Amazon\",\"Diamond Heights\",\"Downtown \",\"Eureka Valley/Dolores Heights\",\"Excelsior\",\"Financial District North\",\"Glen Park\",\"Golden Gate Heights\",\"Haight Ashbury\",\"Hayes Valley\",\"Inner Mission\",\"Inner Richmond\",\"Inner Sunset\",\"Jordan Park/Laurel Heights\",\"Lake --The Presidio\",\"Lone Mountain\",\"Lower Pacific Heights\",\"Marina\",\"Midtown Terrace\",\"Mission Bay\",\"Mission Dolores\",\"Mission Terrace\",\"Nob Hill\",\"Noe Valley\",\"North Beach\",\"North Waterfront\",\"Outer Parkside\",\"Outer Richmond \",\"Outer Sunset\",\"Pacific Heights\",\"Park North\",\"Parkside\",\"Parnassus/Ashbury Heights\",\"Portola\",\"Potrero Hill\",\"Presidio Heights\",\"Russian Hill\",\"South of Market\",\"Sunnyside\",\"Telegraph Hill\",\"Twin Peaks\",\"Union Square District\",\"Van Ness/ Civic Center\",\"Visitacion Valley\",\"West Portal\",\"Western Addition\",\"Westwood Highlands\",\"Yerba Buena\",\"Alamo Square\",\"Anza Vista\",\"Bayview\",\"Bernal Heights \",\"Central Richmond\",\"Central Sunset\",\"Corona Heights\",\"Cow Hollow\",\"Downtown \",\"Duboce Triangle\",\"Eureka Valley/Dolores Heights\",\"Excelsior\",\"Financial District North\",\"Financial District South\",\"Glen Park\",\"Golden Gate Heights\",\"Haight Ashbury\",\"Hayes Valley\",\"Ingleside \",\"Inner Mission\",\"Inner Parkside\",\"Inner Richmond\",\"Inner Sunset\",\"Jordan Park/Laurel Heights\",\"Lake --The Presidio\",\"Lone Mountain\",\"Lower Pacific Heights\",\"Marina\",\"Merced Heights\",\"Miraloma Park\",\"Mission Bay\",\"Mission Dolores\",\"Mission Terrace\",\"Nob Hill\",\"Noe Valley\",\"North Waterfront\",\"Outer Parkside\",\"Outer Richmond \",\"Outer Sunset\",\"Pacific Heights\",\"Park North\",\"Parkside\",\"Parnassus/Ashbury Heights\",\"Portola\",\"Potrero Hill\",\"Presidio Heights\",\"Russian Hill\",\"Silver Terrace\",\"South Beach\",\"South of Market\",\"Sunnyside\",\"Telegraph Hill\",\"Twin Peaks\",\"Union Square District\",\"Van Ness/ Civic Center\",\"Visitacion Valley\",\"West Portal\",\"Western Addition\",\"Westwood Park\",\"Yerba Buena\",\"Alamo Square\",\"Anza Vista\",\"Bayview Heights\",\"Bernal Heights \",\"Buena Vista Park\",\"Central Richmond\",\"Central Sunset\",\"Corona Heights\",\"Cow Hollow\",\"Croker Amazon\",\"Downtown \",\"Duboce Triangle\",\"Eureka Valley/Dolores Heights\",\"Excelsior\",\"Financial District North\",\"Financial District South\",\"Glen Park\",\"Golden Gate Heights\",\"Haight Ashbury\",\"Hayes Valley\",\"Hunters Point\",\"Ingleside \",\"Inner Mission\",\"Inner Parkside\",\"Inner Richmond\",\"Inner Sunset\",\"Jordan Park/Laurel Heights\",\"Lake --The Presidio\",\"Lone Mountain\",\"Lower Pacific Heights\",\"Marina\",\"Mission Dolores\",\"Mission Terrace\",\"Nob Hill\",\"Noe Valley\",\"North Beach\",\"North Waterfront\",\"Oceanview\",\"Outer Mission\",\"Outer Parkside\",\"Outer Richmond \",\"Outer Sunset\",\"Pacific Heights\",\"Park North\",\"Parkside\",\"Parnassus/Ashbury Heights\",\"Potrero Hill\",\"Presidio Heights\",\"Russian Hill\",\"South of Market\",\"Sunnyside\",\"Telegraph Hill\",\"Twin Peaks\",\"Union Square District\",\"Van Ness/ Civic Center\",\"Visitacion Valley\",\"Western Addition\",\"Yerba Buena\",\"Alamo Square\",\"Anza Vista\",\"Bernal Heights \",\"Buena Vista Park\",\"Central Richmond\",\"Central Sunset\",\"Cow Hollow\",\"Croker Amazon\",\"Downtown \",\"Eureka Valley/Dolores Heights\",\"Excelsior\",\"Financial District North\",\"Glen Park\",\"Haight Ashbury\",\"Hayes Valley\",\"Ingleside Heights\",\"Inner Mission\",\"Inner Parkside\",\"Inner Richmond\",\"Inner Sunset\",\"Jordan Park/Laurel Heights\",\"Lower Pacific Heights\",\"Marina\",\"Merced Heights\",\"Mission Bay\",\"Mission Terrace\",\"Nob Hill\",\"Noe Valley\",\"North Beach\",\"Outer Mission\",\"Outer Parkside\",\"Outer Richmond \",\"Outer Sunset\",\"Pacific Heights\",\"Park North\",\"Parnassus/Ashbury Heights\",\"Potrero Hill\",\"Presidio Heights\",\"Russian Hill\",\"South of Market\",\"Sunnyside\",\"Telegraph Hill\",\"Twin Peaks\",\"Van Ness/ Civic Center\",\"Visitacion Valley\",\"Westwood Park\"]},\"selected\":{\"id\":\"1792\"},\"selection_policy\":{\"id\":\"1809\"}},\"id\":\"1791\",\"type\":\"ColumnDataSource\"},{\"attributes\":{},\"id\":\"1801\",\"type\":\"BasicTickFormatter\"},{\"attributes\":{},\"id\":\"1767\",\"type\":\"CategoricalScale\"},{\"attributes\":{},\"id\":\"1792\",\"type\":\"Selection\"},{\"attributes\":{\"callback\":null,\"renderers\":[{\"id\":\"1797\"}],\"tags\":[\"hv_created\"],\"tooltips\":[[\"neighborhood\",\"@{neighborhood}\"],[\"gross_rent\",\"@{gross_rent}\"]]},\"id\":\"1761\",\"type\":\"HoverTool\"},{\"attributes\":{},\"id\":\"1772\",\"type\":\"CategoricalTicker\"},{\"attributes\":{\"axis\":{\"id\":\"1774\"},\"dimension\":1,\"grid_line_color\":null,\"ticker\":null},\"id\":\"1777\",\"type\":\"Grid\"},{\"attributes\":{\"bottom_units\":\"screen\",\"fill_alpha\":0.5,\"fill_color\":\"lightgrey\",\"left_units\":\"screen\",\"level\":\"overlay\",\"line_alpha\":1.0,\"line_color\":\"black\",\"line_dash\":[4,4],\"line_width\":2,\"render_mode\":\"css\",\"right_units\":\"screen\",\"top_units\":\"screen\"},\"id\":\"1783\",\"type\":\"BoxAnnotation\"},{\"attributes\":{},\"id\":\"1780\",\"type\":\"WheelZoomTool\"},{\"attributes\":{\"axis\":{\"id\":\"1771\"},\"grid_line_color\":null,\"ticker\":null},\"id\":\"1773\",\"type\":\"Grid\"},{\"attributes\":{},\"id\":\"1779\",\"type\":\"PanTool\"},{\"attributes\":{\"data_source\":{\"id\":\"1791\"},\"glyph\":{\"id\":\"1794\"},\"hover_glyph\":null,\"muted_glyph\":{\"id\":\"1796\"},\"nonselection_glyph\":{\"id\":\"1795\"},\"selection_glyph\":null,\"view\":{\"id\":\"1798\"}},\"id\":\"1797\",\"type\":\"GlyphRenderer\"},{\"attributes\":{},\"id\":\"1809\",\"type\":\"UnionRenderers\"},{\"attributes\":{\"fill_color\":{\"value\":\"#1f77b3\"},\"top\":{\"field\":\"gross_rent\"},\"width\":{\"value\":0.8},\"x\":{\"field\":\"neighborhood\"}},\"id\":\"1794\",\"type\":\"VBar\"},{\"attributes\":{\"fill_alpha\":{\"value\":0.2},\"fill_color\":{\"value\":\"#1f77b3\"},\"line_alpha\":{\"value\":0.2},\"top\":{\"field\":\"gross_rent\"},\"width\":{\"value\":0.8},\"x\":{\"field\":\"neighborhood\"}},\"id\":\"1796\",\"type\":\"VBar\"},{\"attributes\":{\"fill_alpha\":{\"value\":0.1},\"fill_color\":{\"value\":\"#1f77b3\"},\"line_alpha\":{\"value\":0.1},\"top\":{\"field\":\"gross_rent\"},\"width\":{\"value\":0.8},\"x\":{\"field\":\"neighborhood\"}},\"id\":\"1795\",\"type\":\"VBar\"},{\"attributes\":{\"source\":{\"id\":\"1791\"}},\"id\":\"1798\",\"type\":\"CDSView\"},{\"attributes\":{},\"id\":\"1800\",\"type\":\"CategoricalTickFormatter\"},{\"attributes\":{},\"id\":\"1769\",\"type\":\"LinearScale\"},{\"attributes\":{\"end\":4705.1,\"reset_end\":4705.1,\"reset_start\":0.0,\"tags\":[[[\"gross_rent\",\"gross_rent\",null]]]},\"id\":\"1760\",\"type\":\"Range1d\"},{\"attributes\":{\"factors\":[\"Alamo Square\",\"Anza Vista\",\"Bayview\",\"Buena Vista Park\",\"Central Richmond\",\"Central Sunset\",\"Corona Heights\",\"Cow Hollow\",\"Croker Amazon\",\"Diamond Heights\",\"Downtown \",\"Eureka Valley/Dolores Heights\",\"Excelsior\",\"Financial District North\",\"Financial District South\",\"Forest Knolls\",\"Glen Park\",\"Golden Gate Heights\",\"Haight Ashbury\",\"Hayes Valley\",\"Hunters Point\",\"Ingleside \",\"Inner Mission\",\"Inner Parkside\",\"Inner Richmond\",\"Inner Sunset\",\"Jordan Park/Laurel Heights\",\"Lake --The Presidio\",\"Lone Mountain\",\"Lower Pacific Heights\",\"Marina\",\"Miraloma Park\",\"Mission Bay\",\"Mission Dolores\",\"Mission Terrace\",\"Nob Hill\",\"Noe Valley\",\"Oceanview\",\"Outer Parkside\",\"Outer Richmond \",\"Outer Sunset\",\"Pacific Heights\",\"Park North\",\"Parkside\",\"Parnassus/Ashbury Heights\",\"Portola\",\"Potrero Hill\",\"Presidio Heights\",\"Russian Hill\",\"South Beach\",\"South of Market\",\"Sunnyside\",\"Telegraph Hill\",\"Twin Peaks\",\"Union Square District\",\"Van Ness/ Civic Center\",\"West Portal\",\"Western Addition\",\"Yerba Buena\",\"Bernal Heights \",\"Clarendon Heights\",\"Duboce Triangle\",\"Ingleside Heights\",\"North Beach\",\"North Waterfront\",\"Outer Mission\",\"Westwood Highlands\",\"Merced Heights\",\"Midtown Terrace\",\"Visitacion Valley\",\"Silver Terrace\",\"Westwood Park\",\"Bayview Heights\"],\"tags\":[[[\"neighborhood\",\"neighborhood\",null]]]},\"id\":\"1759\",\"type\":\"FactorRange\"},{\"attributes\":{},\"id\":\"1778\",\"type\":\"SaveTool\"},{\"attributes\":{\"axis_label\":\"gross_rent\",\"bounds\":\"auto\",\"formatter\":{\"id\":\"1801\"},\"major_label_orientation\":\"horizontal\",\"ticker\":{\"id\":\"1775\"}},\"id\":\"1774\",\"type\":\"LinearAxis\"},{\"attributes\":{\"text\":\"\",\"text_color\":{\"value\":\"black\"},\"text_font_size\":{\"value\":\"12pt\"}},\"id\":\"1763\",\"type\":\"Title\"},{\"attributes\":{\"children\":[{\"id\":\"1758\"},{\"id\":\"1762\"},{\"id\":\"1811\"}],\"margin\":[0,0,0,0],\"name\":\"Row03287\",\"tags\":[\"embedded\"]},\"id\":\"1757\",\"type\":\"Row\"},{\"attributes\":{},\"id\":\"1775\",\"type\":\"BasicTicker\"},{\"attributes\":{\"margin\":[5,5,5,5],\"name\":\"HSpacer03292\",\"sizing_mode\":\"stretch_width\"},\"id\":\"1811\",\"type\":\"Spacer\"},{\"attributes\":{\"margin\":[5,5,5,5],\"name\":\"HSpacer03291\",\"sizing_mode\":\"stretch_width\"},\"id\":\"1758\",\"type\":\"Spacer\"},{\"attributes\":{\"overlay\":{\"id\":\"1783\"}},\"id\":\"1781\",\"type\":\"BoxZoomTool\"},{\"attributes\":{},\"id\":\"1782\",\"type\":\"ResetTool\"},{\"attributes\":{\"active_drag\":\"auto\",\"active_inspect\":\"auto\",\"active_multi\":null,\"active_scroll\":\"auto\",\"active_tap\":\"auto\",\"tools\":[{\"id\":\"1761\"},{\"id\":\"1778\"},{\"id\":\"1779\"},{\"id\":\"1780\"},{\"id\":\"1781\"},{\"id\":\"1782\"}]},\"id\":\"1784\",\"type\":\"Toolbar\"}],\"root_ids\":[\"1757\"]},\"title\":\"Bokeh Application\",\"version\":\"2.0.2\"}};\n",
       "  var render_items = [{\"docid\":\"a13a6d98-7ed4-4dad-bf1c-5a28bc33ef16\",\"root_ids\":[\"1757\"],\"roots\":{\"1757\":\"3fb7f690-0b67-402f-931b-11b2792d7942\"}}];\n",
       "  root.Bokeh.embed.embed_items_notebook(docs_json, render_items);\n",
       "  }\n",
       "if (root.Bokeh !== undefined) {\n",
       "    embed_document(root);\n",
       "  } else {\n",
       "    var attempts = 0;\n",
       "    var timer = setInterval(function(root) {\n",
       "      if (root.Bokeh !== undefined) {\n",
       "        clearInterval(timer);\n",
       "        embed_document(root);\n",
       "      } else if (document.readyState == \"complete\") {\n",
       "        attempts++;\n",
       "        if (attempts > 100) {\n",
       "          clearInterval(timer);\n",
       "          console.log(\"Bokeh: ERROR: Unable to run BokehJS code because BokehJS library is missing\");\n",
       "        }\n",
       "      }\n",
       "    }, 10, root)\n",
       "  }\n",
       "})(window);</script>"
      ],
      "text/plain": [
       ":Bars   [neighborhood]   (gross_rent)"
      ]
     },
     "execution_count": 63,
     "metadata": {
      "application/vnd.holoviews_exec.v0+json": {
       "id": "1757"
      }
     },
     "output_type": "execute_result"
    }
   ],
   "source": [
    "sf_df.hvplot.bar(x = 'neighborhood', y = 'gross_rent', rot = 90)"
   ]
  },
  {
   "cell_type": "code",
   "execution_count": 88,
   "id": "e68af70f",
   "metadata": {},
   "outputs": [
    {
     "data": {},
     "metadata": {},
     "output_type": "display_data"
    },
    {
     "data": {
      "application/vnd.holoviews_exec.v0+json": "",
      "text/html": [
       "<div id='2371'>\n",
       "\n",
       "\n",
       "\n",
       "\n",
       "\n",
       "  <div class=\"bk-root\" id=\"e58d5312-4e76-4607-aa2c-cee3ffbfef75\" data-root-id=\"2371\"></div>\n",
       "</div>\n",
       "<script type=\"application/javascript\">(function(root) {\n",
       "  function embed_document(root) {\n",
       "  var docs_json = {\"338ee595-b55d-4590-8091-8f2b49258e3f\":{\"roots\":{\"references\":[{\"attributes\":{},\"id\":\"2381\",\"type\":\"CategoricalScale\"},{\"attributes\":{},\"id\":\"2415\",\"type\":\"CategoricalTickFormatter\"},{\"attributes\":{\"fill_color\":{\"field\":\"Variable\",\"transform\":{\"id\":\"2405\"}},\"top\":{\"field\":\"value\"},\"width\":{\"value\":0.8},\"x\":{\"field\":\"xoffsets\"}},\"id\":\"2409\",\"type\":\"VBar\"},{\"attributes\":{},\"id\":\"2386\",\"type\":\"CategoricalTicker\"},{\"attributes\":{},\"id\":\"2428\",\"type\":\"UnionRenderers\"},{\"attributes\":{\"source\":{\"id\":\"2406\"}},\"id\":\"2413\",\"type\":\"CDSView\"},{\"attributes\":{\"data\":{\"Variable\":[\"sale_price_sqr_foot\",\"sale_price_sqr_foot\",\"sale_price_sqr_foot\",\"sale_price_sqr_foot\",\"sale_price_sqr_foot\",\"sale_price_sqr_foot\",\"sale_price_sqr_foot\",\"gross_rent\",\"gross_rent\",\"gross_rent\",\"gross_rent\",\"gross_rent\",\"gross_rent\",\"gross_rent\"],\"value\":{\"__ndarray__\":\"Dkc7WO0yckCafszcbwhxQIGRs5ot42ZAJzog0LQ8eEAWMinKGEd+QI0V5FDt0IJAVCHcmLVPdUAAAAAAAFyTQAAAAAAA6JdAAAAAAAAookAAAAAAADanQAAAAAAAkKtAAAAAAAA2rUAAAAAAACaxQA==\",\"dtype\":\"float64\",\"shape\":[14]},\"xoffsets\":[[\"2010\",\"sale_price_sqr_foot\"],[\"2011\",\"sale_price_sqr_foot\"],[\"2012\",\"sale_price_sqr_foot\"],[\"2013\",\"sale_price_sqr_foot\"],[\"2014\",\"sale_price_sqr_foot\"],[\"2015\",\"sale_price_sqr_foot\"],[\"2016\",\"sale_price_sqr_foot\"],[\"2010\",\"gross_rent\"],[\"2011\",\"gross_rent\"],[\"2012\",\"gross_rent\"],[\"2013\",\"gross_rent\"],[\"2014\",\"gross_rent\"],[\"2015\",\"gross_rent\"],[\"2016\",\"gross_rent\"]],\"year\":[\"2010\",\"2011\",\"2012\",\"2013\",\"2014\",\"2015\",\"2016\",\"2010\",\"2011\",\"2012\",\"2013\",\"2014\",\"2015\",\"2016\"]},\"selected\":{\"id\":\"2407\"},\"selection_policy\":{\"id\":\"2428\"}},\"id\":\"2406\",\"type\":\"ColumnDataSource\"},{\"attributes\":{},\"id\":\"2407\",\"type\":\"Selection\"},{\"attributes\":{\"axis_label\":\"Avg price, Gross rent\",\"bounds\":\"auto\",\"formatter\":{\"id\":\"2416\"},\"major_label_orientation\":\"horizontal\",\"ticker\":{\"id\":\"2389\"}},\"id\":\"2388\",\"type\":\"LinearAxis\"},{\"attributes\":{\"margin\":[20,20,20,20],\"min_width\":250,\"options\":[\"Alamo Square\",\"Anza Vista\",\"Bayview\",\"Buena Vista Park\",\"Central Richmond\",\"Central Sunset\",\"Corona Heights\",\"Cow Hollow\",\"Croker Amazon\",\"Diamond Heights\",\"Downtown \",\"Eureka Valley/Dolores Heights\",\"Excelsior\",\"Financial District North\",\"Financial District South\",\"Forest Knolls\",\"Glen Park\",\"Golden Gate Heights\",\"Haight Ashbury\",\"Hayes Valley\",\"Hunters Point\",\"Ingleside \",\"Inner Mission\",\"Inner Parkside\",\"Inner Richmond\",\"Inner Sunset\",\"Jordan Park/Laurel Heights\",\"Lake --The Presidio\",\"Lone Mountain\",\"Lower Pacific Heights\",\"Marina\",\"Miraloma Park\",\"Mission Bay\",\"Mission Dolores\",\"Mission Terrace\",\"Nob Hill\",\"Noe Valley\",\"Oceanview\",\"Outer Parkside\",\"Outer Richmond \",\"Outer Sunset\",\"Pacific Heights\",\"Park North\",\"Parkside\",\"Parnassus/Ashbury Heights\",\"Portola\",\"Potrero Hill\",\"Presidio Heights\",\"Russian Hill\",\"South Beach\",\"South of Market\",\"Sunnyside\",\"Telegraph Hill\",\"Twin Peaks\",\"Union Square District\",\"Van Ness/ Civic Center\",\"West Portal\",\"Western Addition\",\"Yerba Buena\",\"Bernal Heights \",\"Clarendon Heights\",\"Duboce Triangle\",\"Ingleside Heights\",\"North Beach\",\"North Waterfront\",\"Outer Mission\",\"Westwood Highlands\",\"Merced Heights\",\"Midtown Terrace\",\"Visitacion Valley\",\"Silver Terrace\",\"Westwood Park\",\"Bayview Heights\"],\"title\":\"neighborhood\",\"value\":\"Alamo Square\",\"width\":250},\"id\":\"2434\",\"type\":\"Select\"},{\"attributes\":{},\"id\":\"2389\",\"type\":\"BasicTicker\"},{\"attributes\":{\"bottom_units\":\"screen\",\"fill_alpha\":0.5,\"fill_color\":\"lightgrey\",\"left_units\":\"screen\",\"level\":\"overlay\",\"line_alpha\":1.0,\"line_color\":\"black\",\"line_dash\":[4,4],\"line_width\":2,\"render_mode\":\"css\",\"right_units\":\"screen\",\"top_units\":\"screen\"},\"id\":\"2397\",\"type\":\"BoxAnnotation\"},{\"attributes\":{\"callback\":null,\"renderers\":[{\"id\":\"2412\"}],\"tags\":[\"hv_created\"],\"tooltips\":[[\"year\",\"@{year}\"],[\"Variable\",\"@{Variable}\"],[\"value\",\"@{value}\"]]},\"id\":\"2375\",\"type\":\"HoverTool\"},{\"attributes\":{\"end\":4810.690068306854,\"reset_end\":4810.690068306854,\"reset_start\":0.0,\"tags\":[[[\"value\",\"value\",null]]]},\"id\":\"2374\",\"type\":\"Range1d\"},{\"attributes\":{\"fill_alpha\":{\"value\":0.1},\"fill_color\":{\"field\":\"Variable\",\"transform\":{\"id\":\"2405\"}},\"line_alpha\":{\"value\":0.1},\"top\":{\"field\":\"value\"},\"width\":{\"value\":0.8},\"x\":{\"field\":\"xoffsets\"}},\"id\":\"2410\",\"type\":\"VBar\"},{\"attributes\":{\"text\":\"neighborhood: Alamo Square\",\"text_color\":{\"value\":\"black\"},\"text_font_size\":{\"value\":\"12pt\"}},\"id\":\"2377\",\"type\":\"Title\"},{\"attributes\":{\"factors\":[\"sale_price_sqr_foot\",\"gross_rent\"],\"palette\":[\"#1f77b3\",\"#ff7e0e\"]},\"id\":\"2405\",\"type\":\"CategoricalColorMapper\"},{\"attributes\":{\"factors\":[[\"2010\",\"gross_rent\"],[\"2010\",\"sale_price_sqr_foot\"],[\"2011\",\"gross_rent\"],[\"2011\",\"sale_price_sqr_foot\"],[\"2012\",\"gross_rent\"],[\"2012\",\"sale_price_sqr_foot\"],[\"2013\",\"gross_rent\"],[\"2013\",\"sale_price_sqr_foot\"],[\"2014\",\"gross_rent\"],[\"2014\",\"sale_price_sqr_foot\"],[\"2015\",\"gross_rent\"],[\"2015\",\"sale_price_sqr_foot\"],[\"2016\",\"gross_rent\"],[\"2016\",\"sale_price_sqr_foot\"]],\"tags\":[[[\"year\",\"year\",null],[\"Variable\",\"Variable\",null]]]},\"id\":\"2373\",\"type\":\"FactorRange\"},{\"attributes\":{\"below\":[{\"id\":\"2385\"}],\"center\":[{\"id\":\"2387\"},{\"id\":\"2391\"}],\"left\":[{\"id\":\"2388\"}],\"margin\":null,\"min_border_bottom\":10,\"min_border_left\":10,\"min_border_right\":10,\"min_border_top\":10,\"plot_height\":300,\"plot_width\":700,\"renderers\":[{\"id\":\"2412\"}],\"sizing_mode\":\"fixed\",\"title\":{\"id\":\"2377\"},\"toolbar\":{\"id\":\"2398\"},\"x_range\":{\"id\":\"2373\"},\"x_scale\":{\"id\":\"2381\"},\"y_range\":{\"id\":\"2374\"},\"y_scale\":{\"id\":\"2383\"}},\"id\":\"2376\",\"subtype\":\"Figure\",\"type\":\"Plot\"},{\"attributes\":{\"axis_label\":\"Year\",\"bounds\":\"auto\",\"formatter\":{\"id\":\"2415\"},\"major_label_orientation\":1.5707963267948966,\"ticker\":{\"id\":\"2386\"}},\"id\":\"2385\",\"type\":\"CategoricalAxis\"},{\"attributes\":{\"axis\":{\"id\":\"2385\"},\"grid_line_color\":null,\"ticker\":null},\"id\":\"2387\",\"type\":\"Grid\"},{\"attributes\":{\"axis\":{\"id\":\"2388\"},\"dimension\":1,\"grid_line_color\":null,\"ticker\":null},\"id\":\"2391\",\"type\":\"Grid\"},{\"attributes\":{},\"id\":\"2383\",\"type\":\"LinearScale\"},{\"attributes\":{},\"id\":\"2392\",\"type\":\"SaveTool\"},{\"attributes\":{},\"id\":\"2393\",\"type\":\"PanTool\"},{\"attributes\":{\"children\":[{\"id\":\"2432\"},{\"id\":\"2433\"},{\"id\":\"2435\"}],\"margin\":[0,0,0,0],\"name\":\"Column04820\"},\"id\":\"2431\",\"type\":\"Column\"},{\"attributes\":{},\"id\":\"2394\",\"type\":\"WheelZoomTool\"},{\"attributes\":{\"active_drag\":\"auto\",\"active_inspect\":\"auto\",\"active_multi\":null,\"active_scroll\":\"auto\",\"active_tap\":\"auto\",\"tools\":[{\"id\":\"2375\"},{\"id\":\"2392\"},{\"id\":\"2393\"},{\"id\":\"2394\"},{\"id\":\"2395\"},{\"id\":\"2396\"}]},\"id\":\"2398\",\"type\":\"Toolbar\"},{\"attributes\":{\"overlay\":{\"id\":\"2397\"}},\"id\":\"2395\",\"type\":\"BoxZoomTool\"},{\"attributes\":{},\"id\":\"2396\",\"type\":\"ResetTool\"},{\"attributes\":{},\"id\":\"2416\",\"type\":\"BasicTickFormatter\"},{\"attributes\":{\"data_source\":{\"id\":\"2406\"},\"glyph\":{\"id\":\"2409\"},\"hover_glyph\":null,\"muted_glyph\":{\"id\":\"2411\"},\"nonselection_glyph\":{\"id\":\"2410\"},\"selection_glyph\":null,\"view\":{\"id\":\"2413\"}},\"id\":\"2412\",\"type\":\"GlyphRenderer\"},{\"attributes\":{\"fill_alpha\":{\"value\":0.2},\"fill_color\":{\"field\":\"Variable\",\"transform\":{\"id\":\"2405\"}},\"line_alpha\":{\"value\":0.2},\"top\":{\"field\":\"value\"},\"width\":{\"value\":0.8},\"x\":{\"field\":\"xoffsets\"}},\"id\":\"2411\",\"type\":\"VBar\"},{\"attributes\":{\"margin\":[5,5,5,5],\"name\":\"VSpacer04818\",\"sizing_mode\":\"stretch_height\"},\"id\":\"2432\",\"type\":\"Spacer\"},{\"attributes\":{\"margin\":[5,5,5,5],\"name\":\"HSpacer04822\",\"sizing_mode\":\"stretch_width\"},\"id\":\"2430\",\"type\":\"Spacer\"},{\"attributes\":{\"client_comm_id\":\"bcd059abb10d41cbaf89e1dd00cf179b\",\"comm_id\":\"a73a5af7fdc04872b504520283de7027\",\"plot_id\":\"2371\"},\"id\":\"2460\",\"type\":\"panel.models.comm_manager.CommManager\"},{\"attributes\":{\"margin\":[5,5,5,5],\"name\":\"VSpacer04819\",\"sizing_mode\":\"stretch_height\"},\"id\":\"2435\",\"type\":\"Spacer\"},{\"attributes\":{\"children\":[{\"id\":\"2434\"}],\"css_classes\":[\"widget-box\"],\"margin\":[5,5,5,5],\"name\":\"WidgetBox04813\"},\"id\":\"2433\",\"type\":\"Column\"},{\"attributes\":{\"margin\":[5,5,5,5],\"name\":\"HSpacer04821\",\"sizing_mode\":\"stretch_width\"},\"id\":\"2372\",\"type\":\"Spacer\"},{\"attributes\":{\"children\":[{\"id\":\"2372\"},{\"id\":\"2376\"},{\"id\":\"2430\"},{\"id\":\"2431\"}],\"margin\":[0,0,0,0],\"name\":\"Row04812\"},\"id\":\"2371\",\"type\":\"Row\"}],\"root_ids\":[\"2371\",\"2460\"]},\"title\":\"Bokeh Application\",\"version\":\"2.0.2\"}};\n",
       "  var render_items = [{\"docid\":\"338ee595-b55d-4590-8091-8f2b49258e3f\",\"root_ids\":[\"2371\"],\"roots\":{\"2371\":\"e58d5312-4e76-4607-aa2c-cee3ffbfef75\"}}];\n",
       "  root.Bokeh.embed.embed_items_notebook(docs_json, render_items);\n",
       "  }\n",
       "if (root.Bokeh !== undefined) {\n",
       "    embed_document(root);\n",
       "  } else {\n",
       "    var attempts = 0;\n",
       "    var timer = setInterval(function(root) {\n",
       "      if (root.Bokeh !== undefined) {\n",
       "        clearInterval(timer);\n",
       "        embed_document(root);\n",
       "      } else if (document.readyState == \"complete\") {\n",
       "        attempts++;\n",
       "        if (attempts > 100) {\n",
       "          clearInterval(timer);\n",
       "          console.log(\"Bokeh: ERROR: Unable to run BokehJS code because BokehJS library is missing\");\n",
       "        }\n",
       "      }\n",
       "    }, 10, root)\n",
       "  }\n",
       "})(window);</script>"
      ],
      "text/plain": [
       ":DynamicMap   [neighborhood]\n",
       "   :Bars   [year,Variable]   (value)"
      ]
     },
     "execution_count": 88,
     "metadata": {
      "application/vnd.holoviews_exec.v0+json": {
       "id": "2371"
      }
     },
     "output_type": "execute_result"
    }
   ],
   "source": [
    "sf_df.hvplot.bar(x='year',  y=['sale_price_sqr_foot', 'gross_rent'], xlabel='Year',ylabel='Avg price, Gross rent', \n",
    "    groupby='neighborhood', rot=90)"
   ]
  },
  {
   "cell_type": "markdown",
   "id": "3f04e4d7",
   "metadata": {},
   "source": [
    "### Neighborhood Map"
   ]
  },
  {
   "cell_type": "code",
   "execution_count": 68,
   "id": "26f60736",
   "metadata": {},
   "outputs": [
    {
     "data": {
      "text/html": [
       "<div>\n",
       "<style scoped>\n",
       "    .dataframe tbody tr th:only-of-type {\n",
       "        vertical-align: middle;\n",
       "    }\n",
       "\n",
       "    .dataframe tbody tr th {\n",
       "        vertical-align: top;\n",
       "    }\n",
       "\n",
       "    .dataframe thead th {\n",
       "        text-align: right;\n",
       "    }\n",
       "</style>\n",
       "<table border=\"1\" class=\"dataframe\">\n",
       "  <thead>\n",
       "    <tr style=\"text-align: right;\">\n",
       "      <th></th>\n",
       "      <th>Neighborhood</th>\n",
       "      <th>Lat</th>\n",
       "      <th>Lon</th>\n",
       "    </tr>\n",
       "  </thead>\n",
       "  <tbody>\n",
       "    <tr>\n",
       "      <th>0</th>\n",
       "      <td>Alamo Square</td>\n",
       "      <td>37.791012</td>\n",
       "      <td>-122.402100</td>\n",
       "    </tr>\n",
       "    <tr>\n",
       "      <th>1</th>\n",
       "      <td>Anza Vista</td>\n",
       "      <td>37.779598</td>\n",
       "      <td>-122.443451</td>\n",
       "    </tr>\n",
       "    <tr>\n",
       "      <th>2</th>\n",
       "      <td>Bayview</td>\n",
       "      <td>37.734670</td>\n",
       "      <td>-122.401060</td>\n",
       "    </tr>\n",
       "    <tr>\n",
       "      <th>3</th>\n",
       "      <td>Bayview Heights</td>\n",
       "      <td>37.728740</td>\n",
       "      <td>-122.410980</td>\n",
       "    </tr>\n",
       "    <tr>\n",
       "      <th>4</th>\n",
       "      <td>Bernal Heights</td>\n",
       "      <td>37.728630</td>\n",
       "      <td>-122.443050</td>\n",
       "    </tr>\n",
       "  </tbody>\n",
       "</table>\n",
       "</div>"
      ],
      "text/plain": [
       "      Neighborhood        Lat         Lon\n",
       "0     Alamo Square  37.791012 -122.402100\n",
       "1       Anza Vista  37.779598 -122.443451\n",
       "2          Bayview  37.734670 -122.401060\n",
       "3  Bayview Heights  37.728740 -122.410980\n",
       "4   Bernal Heights  37.728630 -122.443050"
      ]
     },
     "execution_count": 68,
     "metadata": {},
     "output_type": "execute_result"
    }
   ],
   "source": [
    "coordinates_df = pd.read_csv(\"neighborhoods_coordinates.csv\")\n",
    "coordinates_df.head()"
   ]
  },
  {
   "cell_type": "markdown",
   "id": "3f2b1046",
   "metadata": {},
   "source": [
    "#### Data Preparation"
   ]
  },
  {
   "cell_type": "code",
   "execution_count": 69,
   "id": "d5a9a997",
   "metadata": {},
   "outputs": [
    {
     "data": {
      "text/html": [
       "<div>\n",
       "<style scoped>\n",
       "    .dataframe tbody tr th:only-of-type {\n",
       "        vertical-align: middle;\n",
       "    }\n",
       "\n",
       "    .dataframe tbody tr th {\n",
       "        vertical-align: top;\n",
       "    }\n",
       "\n",
       "    .dataframe thead th {\n",
       "        text-align: right;\n",
       "    }\n",
       "</style>\n",
       "<table border=\"1\" class=\"dataframe\">\n",
       "  <thead>\n",
       "    <tr style=\"text-align: right;\">\n",
       "      <th></th>\n",
       "      <th>neighborhood</th>\n",
       "      <th>sale_price_sqr_foot</th>\n",
       "      <th>housing_units</th>\n",
       "      <th>gross_rent</th>\n",
       "    </tr>\n",
       "  </thead>\n",
       "  <tbody>\n",
       "    <tr>\n",
       "      <th>0</th>\n",
       "      <td>Alamo Square</td>\n",
       "      <td>366.020712</td>\n",
       "      <td>378401.00</td>\n",
       "      <td>2817.285714</td>\n",
       "    </tr>\n",
       "    <tr>\n",
       "      <th>1</th>\n",
       "      <td>Anza Vista</td>\n",
       "      <td>373.382198</td>\n",
       "      <td>379050.00</td>\n",
       "      <td>3031.833333</td>\n",
       "    </tr>\n",
       "    <tr>\n",
       "      <th>2</th>\n",
       "      <td>Bayview</td>\n",
       "      <td>204.588623</td>\n",
       "      <td>376454.00</td>\n",
       "      <td>2318.400000</td>\n",
       "    </tr>\n",
       "    <tr>\n",
       "      <th>3</th>\n",
       "      <td>Bayview Heights</td>\n",
       "      <td>590.792839</td>\n",
       "      <td>382295.00</td>\n",
       "      <td>3739.000000</td>\n",
       "    </tr>\n",
       "    <tr>\n",
       "      <th>4</th>\n",
       "      <td>Bernal Heights</td>\n",
       "      <td>576.746488</td>\n",
       "      <td>379374.50</td>\n",
       "      <td>3080.333333</td>\n",
       "    </tr>\n",
       "    <tr>\n",
       "      <th>...</th>\n",
       "      <td>...</td>\n",
       "      <td>...</td>\n",
       "      <td>...</td>\n",
       "      <td>...</td>\n",
       "    </tr>\n",
       "    <tr>\n",
       "      <th>68</th>\n",
       "      <td>West Portal</td>\n",
       "      <td>498.488485</td>\n",
       "      <td>376940.75</td>\n",
       "      <td>2515.500000</td>\n",
       "    </tr>\n",
       "    <tr>\n",
       "      <th>69</th>\n",
       "      <td>Western Addition</td>\n",
       "      <td>307.562201</td>\n",
       "      <td>377427.50</td>\n",
       "      <td>2555.166667</td>\n",
       "    </tr>\n",
       "    <tr>\n",
       "      <th>70</th>\n",
       "      <td>Westwood Highlands</td>\n",
       "      <td>533.703935</td>\n",
       "      <td>376454.00</td>\n",
       "      <td>2250.500000</td>\n",
       "    </tr>\n",
       "    <tr>\n",
       "      <th>71</th>\n",
       "      <td>Westwood Park</td>\n",
       "      <td>687.087575</td>\n",
       "      <td>382295.00</td>\n",
       "      <td>3959.000000</td>\n",
       "    </tr>\n",
       "    <tr>\n",
       "      <th>72</th>\n",
       "      <td>Yerba Buena</td>\n",
       "      <td>576.709848</td>\n",
       "      <td>377427.50</td>\n",
       "      <td>2555.166667</td>\n",
       "    </tr>\n",
       "  </tbody>\n",
       "</table>\n",
       "<p>73 rows × 4 columns</p>\n",
       "</div>"
      ],
      "text/plain": [
       "          neighborhood  sale_price_sqr_foot  housing_units   gross_rent\n",
       "0         Alamo Square           366.020712      378401.00  2817.285714\n",
       "1           Anza Vista           373.382198      379050.00  3031.833333\n",
       "2              Bayview           204.588623      376454.00  2318.400000\n",
       "3      Bayview Heights           590.792839      382295.00  3739.000000\n",
       "4      Bernal Heights            576.746488      379374.50  3080.333333\n",
       "..                 ...                  ...            ...          ...\n",
       "68         West Portal           498.488485      376940.75  2515.500000\n",
       "69    Western Addition           307.562201      377427.50  2555.166667\n",
       "70  Westwood Highlands           533.703935      376454.00  2250.500000\n",
       "71       Westwood Park           687.087575      382295.00  3959.000000\n",
       "72         Yerba Buena           576.709848      377427.50  2555.166667\n",
       "\n",
       "[73 rows x 4 columns]"
      ]
     },
     "execution_count": 69,
     "metadata": {},
     "output_type": "execute_result"
    }
   ],
   "source": [
    "# Calculate the mean values for each neighborhood\n",
    "sf_neighborhood_avg = sf_data.groupby(by = 'neighborhood').mean().reset_index()\n",
    "sf_neighborhood_avg"
   ]
  },
  {
   "cell_type": "code",
   "execution_count": 71,
   "id": "638e853b",
   "metadata": {},
   "outputs": [
    {
     "data": {
      "text/html": [
       "<div>\n",
       "<style scoped>\n",
       "    .dataframe tbody tr th:only-of-type {\n",
       "        vertical-align: middle;\n",
       "    }\n",
       "\n",
       "    .dataframe tbody tr th {\n",
       "        vertical-align: top;\n",
       "    }\n",
       "\n",
       "    .dataframe thead th {\n",
       "        text-align: right;\n",
       "    }\n",
       "</style>\n",
       "<table border=\"1\" class=\"dataframe\">\n",
       "  <thead>\n",
       "    <tr style=\"text-align: right;\">\n",
       "      <th></th>\n",
       "      <th>Neighborhood</th>\n",
       "      <th>Lat</th>\n",
       "      <th>Lon</th>\n",
       "      <th>sale_price_sqr_foot</th>\n",
       "      <th>housing_units</th>\n",
       "      <th>gross_rent</th>\n",
       "    </tr>\n",
       "  </thead>\n",
       "  <tbody>\n",
       "    <tr>\n",
       "      <th>0</th>\n",
       "      <td>Alamo Square</td>\n",
       "      <td>37.791012</td>\n",
       "      <td>-122.402100</td>\n",
       "      <td>366.020712</td>\n",
       "      <td>378401.0</td>\n",
       "      <td>2817.285714</td>\n",
       "    </tr>\n",
       "    <tr>\n",
       "      <th>1</th>\n",
       "      <td>Anza Vista</td>\n",
       "      <td>37.779598</td>\n",
       "      <td>-122.443451</td>\n",
       "      <td>373.382198</td>\n",
       "      <td>379050.0</td>\n",
       "      <td>3031.833333</td>\n",
       "    </tr>\n",
       "    <tr>\n",
       "      <th>2</th>\n",
       "      <td>Bayview</td>\n",
       "      <td>37.734670</td>\n",
       "      <td>-122.401060</td>\n",
       "      <td>204.588623</td>\n",
       "      <td>376454.0</td>\n",
       "      <td>2318.400000</td>\n",
       "    </tr>\n",
       "    <tr>\n",
       "      <th>3</th>\n",
       "      <td>Bayview Heights</td>\n",
       "      <td>37.728740</td>\n",
       "      <td>-122.410980</td>\n",
       "      <td>590.792839</td>\n",
       "      <td>382295.0</td>\n",
       "      <td>3739.000000</td>\n",
       "    </tr>\n",
       "    <tr>\n",
       "      <th>4</th>\n",
       "      <td>Bernal Heights</td>\n",
       "      <td>37.728630</td>\n",
       "      <td>-122.443050</td>\n",
       "      <td>576.746488</td>\n",
       "      <td>379374.5</td>\n",
       "      <td>3080.333333</td>\n",
       "    </tr>\n",
       "  </tbody>\n",
       "</table>\n",
       "</div>"
      ],
      "text/plain": [
       "      Neighborhood        Lat         Lon  sale_price_sqr_foot  housing_units  \\\n",
       "0     Alamo Square  37.791012 -122.402100           366.020712       378401.0   \n",
       "1       Anza Vista  37.779598 -122.443451           373.382198       379050.0   \n",
       "2          Bayview  37.734670 -122.401060           204.588623       376454.0   \n",
       "3  Bayview Heights  37.728740 -122.410980           590.792839       382295.0   \n",
       "4   Bernal Heights  37.728630 -122.443050           576.746488       379374.5   \n",
       "\n",
       "    gross_rent  \n",
       "0  2817.285714  \n",
       "1  3031.833333  \n",
       "2  2318.400000  \n",
       "3  3739.000000  \n",
       "4  3080.333333  "
      ]
     },
     "execution_count": 71,
     "metadata": {},
     "output_type": "execute_result"
    }
   ],
   "source": [
    "# Join the average values with the neighborhood locations\n",
    "combined_df = pd.concat( [coordinates_df,sf_neighborhood_avg],axis = 1, join = 'inner').drop(columns = 'neighborhood')\n",
    "combined_df.head()"
   ]
  },
  {
   "cell_type": "code",
   "execution_count": 93,
   "id": "5cb8f67f",
   "metadata": {},
   "outputs": [],
   "source": [
    "# Set the mapbox access token\n",
    "px.set_mapbox_access_token(map_box_api)"
   ]
  },
  {
   "cell_type": "code",
   "execution_count": 94,
   "id": "77ddbd32",
   "metadata": {},
   "outputs": [
    {
     "data": {
      "application/vnd.plotly.v1+json": {
       "config": {
        "plotlyServerURL": "https://plot.ly"
       },
       "data": [
        {
         "hovertemplate": "<b>%{hovertext}</b><br><br>sale_price_sqr_foot=%{marker.size}<br>Lat=%{lat}<br>Lon=%{lon}<br>gross_rent=%{marker.color}<extra></extra>",
         "hovertext": [
          "Alamo Square",
          "Anza Vista",
          "Bayview",
          "Bayview Heights",
          "Bernal Heights",
          "Buena Vista Park",
          "Central Richmond",
          "Central Sunset",
          "Clarendon Heights",
          "Corona Heights",
          "Cow Hollow",
          "Croker Amazon",
          "Diamond Heights",
          "Downtown",
          "Duboce Triangle",
          "Eureka Valley/Dolores Heights",
          "Excelsior",
          "Financial District North",
          "Financial District South",
          "Forest Knolls",
          "Glen Park",
          "Golden Gate Heights",
          "Haight Ashbury",
          "Hayes Valley",
          "Hunters Point",
          "Ingleside",
          "Ingleside Heights",
          "Inner Mission",
          "Inner Parkside",
          "Inner Richmond",
          "Inner Sunset",
          "Jordan Park/Laurel Heights",
          "Lake --The Presidio",
          "Lone Mountain",
          "Lower Pacific Heights",
          "Marina",
          "Merced Heights",
          "Midtown Terrace",
          "Miraloma Park",
          "Mission Bay",
          "Mission Dolores",
          "Mission Terrace",
          "Nob Hill",
          "Noe Valley",
          "North Beach",
          "North Waterfront",
          "Oceanview",
          "Outer Mission",
          "Outer Parkside",
          "Outer Richmond",
          "Outer Sunset",
          "Pacific Heights",
          "Park North",
          "Parkside",
          "Parnassus/Ashbury Heights",
          "Portola",
          "Potrero Hill",
          "Presidio Heights",
          "Russian Hill",
          "Silver Terrace",
          "South Beach",
          "South of Market",
          "Sunnyside",
          "Telegraph Hill",
          "Twin Peaks",
          "Union Square District",
          "Van Ness/ Civic Center",
          "Visitacion Valley",
          "West Portal",
          "Western Addition",
          "Westwood Highlands",
          "Westwood Park",
          "Yerba Buena"
         ],
         "lat": [
          37.791012,
          37.779598,
          37.73467,
          37.72874,
          37.728629999999995,
          37.768159999999995,
          37.77789,
          37.74961,
          37.75331,
          37.78553,
          37.79298,
          37.7228,
          37.728629999999995,
          37.79101,
          37.76964,
          37.75554,
          37.72874,
          37.79101,
          37.79101,
          37.757059999999996,
          37.728629999999995,
          37.757912,
          37.76525,
          37.76525,
          37.72551,
          37.721160999999995,
          37.72116,
          37.75416,
          37.74961,
          37.769112,
          37.74961,
          37.78553,
          37.801520000000004,
          37.7789,
          37.79298,
          37.79972,
          37.71993,
          37.75331,
          37.73415,
          37.783229999999996,
          37.75184,
          37.728629999999995,
          37.79298,
          37.75331,
          37.80055,
          37.80055,
          37.71993,
          37.7228,
          37.7517,
          37.76911,
          37.74961,
          37.79298,
          37.72838,
          37.74961,
          37.76355,
          37.73467,
          37.73196,
          37.78553,
          37.79298,
          37.73467,
          37.783229999999996,
          37.79101,
          37.73415,
          37.80055,
          37.753311,
          37.79101,
          37.779509999999995,
          37.72874,
          37.74026,
          37.79298,
          37.7347,
          37.73415,
          37.79298
         ],
         "legendgroup": "",
         "lon": [
          -122.4021,
          -122.443451,
          -122.40106000000002,
          -122.41098000000001,
          -122.44305,
          -122.43933,
          -122.44516999999999,
          -122.48998999999999,
          -122.44703,
          -122.456,
          -122.43579,
          -122.43869,
          -122.44305,
          -122.4021,
          -122.42611000000001,
          -122.43778999999999,
          -122.41098000000001,
          -122.4021,
          -122.4021,
          -122.45508999999998,
          -122.44305,
          -122.46401999999999,
          -122.43596000000001,
          -122.43596000000001,
          -122.37178,
          -122.487068,
          -122.48706999999999,
          -122.41946999999999,
          -122.48998999999999,
          -122.483566,
          -122.48997,
          -122.456,
          -122.45456999999999,
          -122.45496000000001,
          -122.43579,
          -122.46688999999999,
          -122.46595,
          -122.44703,
          -122.45700000000001,
          -122.40065,
          -122.42522,
          -122.44305,
          -122.43579,
          -122.44703,
          -122.40433,
          -122.40433,
          -122.46595,
          -122.43869,
          -122.446,
          -122.48357,
          -122.48998999999999,
          -122.43579,
          -122.47851000000001,
          -122.48998999999999,
          -122.45765,
          -122.40106000000002,
          -122.38323999999999,
          -122.456,
          -122.43579,
          -122.40106000000002,
          -122.40065,
          -122.4021,
          -122.45700000000001,
          -122.40433,
          -122.447029,
          -122.4021,
          -122.42022,
          -122.41098000000001,
          -122.46388,
          -122.43579,
          -122.456854,
          -122.45700000000001,
          -122.39636000000002
         ],
         "marker": {
          "color": [
           2817.285714285714,
           3031.8333333333335,
           2318.4,
           3739,
           3080.3333333333335,
           2698.8333333333335,
           2817.285714285714,
           2817.285714285714,
           2250.5,
           2472,
           2817.285714285714,
           2698.8333333333335,
           2016,
           2817.285714285714,
           2780.25,
           2817.285714285714,
           3031.8333333333335,
           2817.285714285714,
           2472,
           1781.5,
           2899.5,
           2601.4,
           2817.285714285714,
           2817.285714285714,
           2489,
           2509,
           2960,
           2817.285714285714,
           3224,
           2817.285714285714,
           2817.285714285714,
           2817.285714285714,
           2555.1666666666665,
           2555.1666666666665,
           2817.285714285714,
           2817.285714285714,
           3414,
           2647.5,
           2155.25,
           2663.6666666666665,
           2555.1666666666665,
           3173.4,
           2817.285714285714,
           2817.285714285714,
           2990.8,
           2818.4,
           2434,
           2995.75,
           2817.285714285714,
           2817.285714285714,
           2817.285714285714,
           2817.285714285714,
           2817.285714285714,
           2555.1666666666665,
           2817.285714285714,
           2318.4,
           2817.285714285714,
           2817.285714285714,
           2817.285714285714,
           3528,
           2099,
           2817.285714285714,
           2899.5,
           2817.285714285714,
           2817.285714285714,
           2555.1666666666665,
           2817.285714285714,
           3657,
           2515.5,
           2555.1666666666665,
           2250.5,
           3959,
           2555.1666666666665
          ],
          "coloraxis": "coloraxis",
          "size": [
           366.02071153227644,
           373.38219782647707,
           204.58862288246596,
           590.7928388746802,
           576.7464881132382,
           452.6805909308442,
           394.4223987800589,
           423.6879277015824,
           487.2448860262575,
           587.5390673661739,
           665.964041578323,
           303.00418440849427,
           434.99173944522124,
           391.43437776742576,
           502.59915555623616,
           642.2486706357391,
           388.76592700230754,
           391.36253308010487,
           455.83621223779153,
           321.84083657398736,
           623.826177537435,
           639.3935574881156,
           449.5447622856192,
           355.9328279480578,
           170.62491987132685,
           367.8951440852775,
           384.7979281346048,
           397.67371473613446,
           519.3856038526768,
           378.59431396136455,
           413.66751546215943,
           529.3841850673389,
           409.95435219297514,
           478.2285530213679,
           539.2379688783261,
           583.7492694814549,
           788.8448175872469,
           550.5103482917151,
           779.810842264425,
           566.1922135483312,
           418.9156225067234,
           523.4662013248023,
           458.2040944846015,
           542.4429128151736,
           411.646875881678,
           498.26975500787677,
           330.0973846552545,
           242.37095202049667,
           485.0270126111035,
           473.90077331796317,
           394.21903228550775,
           689.5558168113664,
           373.732856371763,
           336.172661037069,
           632.740453508577,
           327.11392534647274,
           662.0136128276529,
           675.3502120510033,
           608.9832172374425,
           170.2925485152069,
           650.1244791945729,
           570.2714266991686,
           528.3183317138463,
           676.5065775293257,
           469.39862649935156,
           903.9932576720645,
           404.1501801622257,
           301.46617997450267,
           498.4884848295011,
           307.56220097996066,
           533.7039354359513,
           687.0875745178323,
           576.709848378276
          ],
          "sizemode": "area",
          "sizeref": 2.259983144180161
         },
         "mode": "markers",
         "name": "",
         "showlegend": false,
         "subplot": "mapbox",
         "type": "scattermapbox"
        }
       ],
       "layout": {
        "coloraxis": {
         "colorbar": {
          "title": {
           "text": "gross_rent"
          }
         },
         "colorscale": [
          [
           0,
           "#000000"
          ],
          [
           0.0625,
           "#001f4d"
          ],
          [
           0.125,
           "#003786"
          ],
          [
           0.1875,
           "#0e58a8"
          ],
          [
           0.25,
           "#217eb8"
          ],
          [
           0.3125,
           "#30a4ca"
          ],
          [
           0.375,
           "#54c8df"
          ],
          [
           0.4375,
           "#9be4ef"
          ],
          [
           0.5,
           "#e1e9d1"
          ],
          [
           0.5625,
           "#f3d573"
          ],
          [
           0.625,
           "#e7b000"
          ],
          [
           0.6875,
           "#da8200"
          ],
          [
           0.75,
           "#c65400"
          ],
          [
           0.8125,
           "#ac2301"
          ],
          [
           0.875,
           "#820000"
          ],
          [
           0.9375,
           "#4c0000"
          ],
          [
           1,
           "#000000"
          ]
         ]
        },
        "legend": {
         "itemsizing": "constant",
         "tracegroupgap": 0
        },
        "mapbox": {
         "accesstoken": "pk.eyJ1IjoiY3J1c2FkaW5nZ3JvdW5kaG9nIiwiYSI6ImNrb20zanRzOTBlNnEydm8xMnFneWFjZXcifQ.FqVPXzmmW3kblQJijXXkNw",
         "center": {
          "lat": 37.76019350684932,
          "lon": -122.4391238082192
         },
         "domain": {
          "x": [
           0,
           1
          ],
          "y": [
           0,
           1
          ]
         },
         "zoom": 11
        },
        "template": {
         "data": {
          "bar": [
           {
            "error_x": {
             "color": "#2a3f5f"
            },
            "error_y": {
             "color": "#2a3f5f"
            },
            "marker": {
             "line": {
              "color": "#E5ECF6",
              "width": 0.5
             }
            },
            "type": "bar"
           }
          ],
          "barpolar": [
           {
            "marker": {
             "line": {
              "color": "#E5ECF6",
              "width": 0.5
             }
            },
            "type": "barpolar"
           }
          ],
          "carpet": [
           {
            "aaxis": {
             "endlinecolor": "#2a3f5f",
             "gridcolor": "white",
             "linecolor": "white",
             "minorgridcolor": "white",
             "startlinecolor": "#2a3f5f"
            },
            "baxis": {
             "endlinecolor": "#2a3f5f",
             "gridcolor": "white",
             "linecolor": "white",
             "minorgridcolor": "white",
             "startlinecolor": "#2a3f5f"
            },
            "type": "carpet"
           }
          ],
          "choropleth": [
           {
            "colorbar": {
             "outlinewidth": 0,
             "ticks": ""
            },
            "type": "choropleth"
           }
          ],
          "contour": [
           {
            "colorbar": {
             "outlinewidth": 0,
             "ticks": ""
            },
            "colorscale": [
             [
              0,
              "#0d0887"
             ],
             [
              0.1111111111111111,
              "#46039f"
             ],
             [
              0.2222222222222222,
              "#7201a8"
             ],
             [
              0.3333333333333333,
              "#9c179e"
             ],
             [
              0.4444444444444444,
              "#bd3786"
             ],
             [
              0.5555555555555556,
              "#d8576b"
             ],
             [
              0.6666666666666666,
              "#ed7953"
             ],
             [
              0.7777777777777778,
              "#fb9f3a"
             ],
             [
              0.8888888888888888,
              "#fdca26"
             ],
             [
              1,
              "#f0f921"
             ]
            ],
            "type": "contour"
           }
          ],
          "contourcarpet": [
           {
            "colorbar": {
             "outlinewidth": 0,
             "ticks": ""
            },
            "type": "contourcarpet"
           }
          ],
          "heatmap": [
           {
            "colorbar": {
             "outlinewidth": 0,
             "ticks": ""
            },
            "colorscale": [
             [
              0,
              "#0d0887"
             ],
             [
              0.1111111111111111,
              "#46039f"
             ],
             [
              0.2222222222222222,
              "#7201a8"
             ],
             [
              0.3333333333333333,
              "#9c179e"
             ],
             [
              0.4444444444444444,
              "#bd3786"
             ],
             [
              0.5555555555555556,
              "#d8576b"
             ],
             [
              0.6666666666666666,
              "#ed7953"
             ],
             [
              0.7777777777777778,
              "#fb9f3a"
             ],
             [
              0.8888888888888888,
              "#fdca26"
             ],
             [
              1,
              "#f0f921"
             ]
            ],
            "type": "heatmap"
           }
          ],
          "heatmapgl": [
           {
            "colorbar": {
             "outlinewidth": 0,
             "ticks": ""
            },
            "colorscale": [
             [
              0,
              "#0d0887"
             ],
             [
              0.1111111111111111,
              "#46039f"
             ],
             [
              0.2222222222222222,
              "#7201a8"
             ],
             [
              0.3333333333333333,
              "#9c179e"
             ],
             [
              0.4444444444444444,
              "#bd3786"
             ],
             [
              0.5555555555555556,
              "#d8576b"
             ],
             [
              0.6666666666666666,
              "#ed7953"
             ],
             [
              0.7777777777777778,
              "#fb9f3a"
             ],
             [
              0.8888888888888888,
              "#fdca26"
             ],
             [
              1,
              "#f0f921"
             ]
            ],
            "type": "heatmapgl"
           }
          ],
          "histogram": [
           {
            "marker": {
             "colorbar": {
              "outlinewidth": 0,
              "ticks": ""
             }
            },
            "type": "histogram"
           }
          ],
          "histogram2d": [
           {
            "colorbar": {
             "outlinewidth": 0,
             "ticks": ""
            },
            "colorscale": [
             [
              0,
              "#0d0887"
             ],
             [
              0.1111111111111111,
              "#46039f"
             ],
             [
              0.2222222222222222,
              "#7201a8"
             ],
             [
              0.3333333333333333,
              "#9c179e"
             ],
             [
              0.4444444444444444,
              "#bd3786"
             ],
             [
              0.5555555555555556,
              "#d8576b"
             ],
             [
              0.6666666666666666,
              "#ed7953"
             ],
             [
              0.7777777777777778,
              "#fb9f3a"
             ],
             [
              0.8888888888888888,
              "#fdca26"
             ],
             [
              1,
              "#f0f921"
             ]
            ],
            "type": "histogram2d"
           }
          ],
          "histogram2dcontour": [
           {
            "colorbar": {
             "outlinewidth": 0,
             "ticks": ""
            },
            "colorscale": [
             [
              0,
              "#0d0887"
             ],
             [
              0.1111111111111111,
              "#46039f"
             ],
             [
              0.2222222222222222,
              "#7201a8"
             ],
             [
              0.3333333333333333,
              "#9c179e"
             ],
             [
              0.4444444444444444,
              "#bd3786"
             ],
             [
              0.5555555555555556,
              "#d8576b"
             ],
             [
              0.6666666666666666,
              "#ed7953"
             ],
             [
              0.7777777777777778,
              "#fb9f3a"
             ],
             [
              0.8888888888888888,
              "#fdca26"
             ],
             [
              1,
              "#f0f921"
             ]
            ],
            "type": "histogram2dcontour"
           }
          ],
          "mesh3d": [
           {
            "colorbar": {
             "outlinewidth": 0,
             "ticks": ""
            },
            "type": "mesh3d"
           }
          ],
          "parcoords": [
           {
            "line": {
             "colorbar": {
              "outlinewidth": 0,
              "ticks": ""
             }
            },
            "type": "parcoords"
           }
          ],
          "pie": [
           {
            "automargin": true,
            "type": "pie"
           }
          ],
          "scatter": [
           {
            "marker": {
             "colorbar": {
              "outlinewidth": 0,
              "ticks": ""
             }
            },
            "type": "scatter"
           }
          ],
          "scatter3d": [
           {
            "line": {
             "colorbar": {
              "outlinewidth": 0,
              "ticks": ""
             }
            },
            "marker": {
             "colorbar": {
              "outlinewidth": 0,
              "ticks": ""
             }
            },
            "type": "scatter3d"
           }
          ],
          "scattercarpet": [
           {
            "marker": {
             "colorbar": {
              "outlinewidth": 0,
              "ticks": ""
             }
            },
            "type": "scattercarpet"
           }
          ],
          "scattergeo": [
           {
            "marker": {
             "colorbar": {
              "outlinewidth": 0,
              "ticks": ""
             }
            },
            "type": "scattergeo"
           }
          ],
          "scattergl": [
           {
            "marker": {
             "colorbar": {
              "outlinewidth": 0,
              "ticks": ""
             }
            },
            "type": "scattergl"
           }
          ],
          "scattermapbox": [
           {
            "marker": {
             "colorbar": {
              "outlinewidth": 0,
              "ticks": ""
             }
            },
            "type": "scattermapbox"
           }
          ],
          "scatterpolar": [
           {
            "marker": {
             "colorbar": {
              "outlinewidth": 0,
              "ticks": ""
             }
            },
            "type": "scatterpolar"
           }
          ],
          "scatterpolargl": [
           {
            "marker": {
             "colorbar": {
              "outlinewidth": 0,
              "ticks": ""
             }
            },
            "type": "scatterpolargl"
           }
          ],
          "scatterternary": [
           {
            "marker": {
             "colorbar": {
              "outlinewidth": 0,
              "ticks": ""
             }
            },
            "type": "scatterternary"
           }
          ],
          "surface": [
           {
            "colorbar": {
             "outlinewidth": 0,
             "ticks": ""
            },
            "colorscale": [
             [
              0,
              "#0d0887"
             ],
             [
              0.1111111111111111,
              "#46039f"
             ],
             [
              0.2222222222222222,
              "#7201a8"
             ],
             [
              0.3333333333333333,
              "#9c179e"
             ],
             [
              0.4444444444444444,
              "#bd3786"
             ],
             [
              0.5555555555555556,
              "#d8576b"
             ],
             [
              0.6666666666666666,
              "#ed7953"
             ],
             [
              0.7777777777777778,
              "#fb9f3a"
             ],
             [
              0.8888888888888888,
              "#fdca26"
             ],
             [
              1,
              "#f0f921"
             ]
            ],
            "type": "surface"
           }
          ],
          "table": [
           {
            "cells": {
             "fill": {
              "color": "#EBF0F8"
             },
             "line": {
              "color": "white"
             }
            },
            "header": {
             "fill": {
              "color": "#C8D4E3"
             },
             "line": {
              "color": "white"
             }
            },
            "type": "table"
           }
          ]
         },
         "layout": {
          "annotationdefaults": {
           "arrowcolor": "#2a3f5f",
           "arrowhead": 0,
           "arrowwidth": 1
          },
          "autotypenumbers": "strict",
          "coloraxis": {
           "colorbar": {
            "outlinewidth": 0,
            "ticks": ""
           }
          },
          "colorscale": {
           "diverging": [
            [
             0,
             "#8e0152"
            ],
            [
             0.1,
             "#c51b7d"
            ],
            [
             0.2,
             "#de77ae"
            ],
            [
             0.3,
             "#f1b6da"
            ],
            [
             0.4,
             "#fde0ef"
            ],
            [
             0.5,
             "#f7f7f7"
            ],
            [
             0.6,
             "#e6f5d0"
            ],
            [
             0.7,
             "#b8e186"
            ],
            [
             0.8,
             "#7fbc41"
            ],
            [
             0.9,
             "#4d9221"
            ],
            [
             1,
             "#276419"
            ]
           ],
           "sequential": [
            [
             0,
             "#0d0887"
            ],
            [
             0.1111111111111111,
             "#46039f"
            ],
            [
             0.2222222222222222,
             "#7201a8"
            ],
            [
             0.3333333333333333,
             "#9c179e"
            ],
            [
             0.4444444444444444,
             "#bd3786"
            ],
            [
             0.5555555555555556,
             "#d8576b"
            ],
            [
             0.6666666666666666,
             "#ed7953"
            ],
            [
             0.7777777777777778,
             "#fb9f3a"
            ],
            [
             0.8888888888888888,
             "#fdca26"
            ],
            [
             1,
             "#f0f921"
            ]
           ],
           "sequentialminus": [
            [
             0,
             "#0d0887"
            ],
            [
             0.1111111111111111,
             "#46039f"
            ],
            [
             0.2222222222222222,
             "#7201a8"
            ],
            [
             0.3333333333333333,
             "#9c179e"
            ],
            [
             0.4444444444444444,
             "#bd3786"
            ],
            [
             0.5555555555555556,
             "#d8576b"
            ],
            [
             0.6666666666666666,
             "#ed7953"
            ],
            [
             0.7777777777777778,
             "#fb9f3a"
            ],
            [
             0.8888888888888888,
             "#fdca26"
            ],
            [
             1,
             "#f0f921"
            ]
           ]
          },
          "colorway": [
           "#636efa",
           "#EF553B",
           "#00cc96",
           "#ab63fa",
           "#FFA15A",
           "#19d3f3",
           "#FF6692",
           "#B6E880",
           "#FF97FF",
           "#FECB52"
          ],
          "font": {
           "color": "#2a3f5f"
          },
          "geo": {
           "bgcolor": "white",
           "lakecolor": "white",
           "landcolor": "#E5ECF6",
           "showlakes": true,
           "showland": true,
           "subunitcolor": "white"
          },
          "hoverlabel": {
           "align": "left"
          },
          "hovermode": "closest",
          "mapbox": {
           "style": "light"
          },
          "paper_bgcolor": "white",
          "plot_bgcolor": "#E5ECF6",
          "polar": {
           "angularaxis": {
            "gridcolor": "white",
            "linecolor": "white",
            "ticks": ""
           },
           "bgcolor": "#E5ECF6",
           "radialaxis": {
            "gridcolor": "white",
            "linecolor": "white",
            "ticks": ""
           }
          },
          "scene": {
           "xaxis": {
            "backgroundcolor": "#E5ECF6",
            "gridcolor": "white",
            "gridwidth": 2,
            "linecolor": "white",
            "showbackground": true,
            "ticks": "",
            "zerolinecolor": "white"
           },
           "yaxis": {
            "backgroundcolor": "#E5ECF6",
            "gridcolor": "white",
            "gridwidth": 2,
            "linecolor": "white",
            "showbackground": true,
            "ticks": "",
            "zerolinecolor": "white"
           },
           "zaxis": {
            "backgroundcolor": "#E5ECF6",
            "gridcolor": "white",
            "gridwidth": 2,
            "linecolor": "white",
            "showbackground": true,
            "ticks": "",
            "zerolinecolor": "white"
           }
          },
          "shapedefaults": {
           "line": {
            "color": "#2a3f5f"
           }
          },
          "ternary": {
           "aaxis": {
            "gridcolor": "white",
            "linecolor": "white",
            "ticks": ""
           },
           "baxis": {
            "gridcolor": "white",
            "linecolor": "white",
            "ticks": ""
           },
           "bgcolor": "#E5ECF6",
           "caxis": {
            "gridcolor": "white",
            "linecolor": "white",
            "ticks": ""
           }
          },
          "title": {
           "x": 0.05
          },
          "xaxis": {
           "automargin": true,
           "gridcolor": "white",
           "linecolor": "white",
           "ticks": "",
           "title": {
            "standoff": 15
           },
           "zerolinecolor": "white",
           "zerolinewidth": 2
          },
          "yaxis": {
           "automargin": true,
           "gridcolor": "white",
           "linecolor": "white",
           "ticks": "",
           "title": {
            "standoff": 15
           },
           "zerolinecolor": "white",
           "zerolinewidth": 2
          }
         }
        },
        "title": {
         "text": "Average Sale Price Per SqFt & Gross Rent in San Francisco"
        }
       }
      },
      "text/html": [
       "<div>                            <div id=\"664494d4-f5e1-45c0-95d6-894055046118\" class=\"plotly-graph-div\" style=\"height:525px; width:100%;\"></div>            <script type=\"text/javascript\">                require([\"plotly\"], function(Plotly) {                    window.PLOTLYENV=window.PLOTLYENV || {};                                    if (document.getElementById(\"664494d4-f5e1-45c0-95d6-894055046118\")) {                    Plotly.newPlot(                        \"664494d4-f5e1-45c0-95d6-894055046118\",                        [{\"hovertemplate\": \"<b>%{hovertext}</b><br><br>sale_price_sqr_foot=%{marker.size}<br>Lat=%{lat}<br>Lon=%{lon}<br>gross_rent=%{marker.color}<extra></extra>\", \"hovertext\": [\"Alamo Square\", \"Anza Vista\", \"Bayview\", \"Bayview Heights\", \"Bernal Heights\", \"Buena Vista Park\", \"Central Richmond\", \"Central Sunset\", \"Clarendon Heights\", \"Corona Heights\", \"Cow Hollow\", \"Croker Amazon\", \"Diamond Heights\", \"Downtown\", \"Duboce Triangle\", \"Eureka Valley/Dolores Heights\", \"Excelsior\", \"Financial District North\", \"Financial District South\", \"Forest Knolls\", \"Glen Park\", \"Golden Gate Heights\", \"Haight Ashbury\", \"Hayes Valley\", \"Hunters Point\", \"Ingleside\", \"Ingleside Heights\", \"Inner Mission\", \"Inner Parkside\", \"Inner Richmond\", \"Inner Sunset\", \"Jordan Park/Laurel Heights\", \"Lake --The Presidio\", \"Lone Mountain\", \"Lower Pacific Heights\", \"Marina\", \"Merced Heights\", \"Midtown Terrace\", \"Miraloma Park\", \"Mission Bay\", \"Mission Dolores\", \"Mission Terrace\", \"Nob Hill\", \"Noe Valley\", \"North Beach\", \"North Waterfront\", \"Oceanview\", \"Outer Mission\", \"Outer Parkside\", \"Outer Richmond\", \"Outer Sunset\", \"Pacific Heights\", \"Park North\", \"Parkside\", \"Parnassus/Ashbury Heights\", \"Portola\", \"Potrero Hill\", \"Presidio Heights\", \"Russian Hill\", \"Silver Terrace\", \"South Beach\", \"South of Market\", \"Sunnyside\", \"Telegraph Hill\", \"Twin Peaks\", \"Union Square District\", \"Van Ness/ Civic Center\", \"Visitacion Valley\", \"West Portal\", \"Western Addition\", \"Westwood Highlands\", \"Westwood Park\", \"Yerba Buena\"], \"lat\": [37.791012, 37.779598, 37.73467, 37.72874, 37.728629999999995, 37.768159999999995, 37.77789, 37.74961, 37.75331, 37.78553, 37.79298, 37.7228, 37.728629999999995, 37.79101, 37.76964, 37.75554, 37.72874, 37.79101, 37.79101, 37.757059999999996, 37.728629999999995, 37.757912, 37.76525, 37.76525, 37.72551, 37.721160999999995, 37.72116, 37.75416, 37.74961, 37.769112, 37.74961, 37.78553, 37.801520000000004, 37.7789, 37.79298, 37.79972, 37.71993, 37.75331, 37.73415, 37.783229999999996, 37.75184, 37.728629999999995, 37.79298, 37.75331, 37.80055, 37.80055, 37.71993, 37.7228, 37.7517, 37.76911, 37.74961, 37.79298, 37.72838, 37.74961, 37.76355, 37.73467, 37.73196, 37.78553, 37.79298, 37.73467, 37.783229999999996, 37.79101, 37.73415, 37.80055, 37.753311, 37.79101, 37.779509999999995, 37.72874, 37.74026, 37.79298, 37.7347, 37.73415, 37.79298], \"legendgroup\": \"\", \"lon\": [-122.4021, -122.443451, -122.40106000000002, -122.41098000000001, -122.44305, -122.43933, -122.44516999999999, -122.48998999999999, -122.44703, -122.456, -122.43579, -122.43869, -122.44305, -122.4021, -122.42611000000001, -122.43778999999999, -122.41098000000001, -122.4021, -122.4021, -122.45508999999998, -122.44305, -122.46401999999999, -122.43596000000001, -122.43596000000001, -122.37178, -122.487068, -122.48706999999999, -122.41946999999999, -122.48998999999999, -122.483566, -122.48997, -122.456, -122.45456999999999, -122.45496000000001, -122.43579, -122.46688999999999, -122.46595, -122.44703, -122.45700000000001, -122.40065, -122.42522, -122.44305, -122.43579, -122.44703, -122.40433, -122.40433, -122.46595, -122.43869, -122.446, -122.48357, -122.48998999999999, -122.43579, -122.47851000000001, -122.48998999999999, -122.45765, -122.40106000000002, -122.38323999999999, -122.456, -122.43579, -122.40106000000002, -122.40065, -122.4021, -122.45700000000001, -122.40433, -122.447029, -122.4021, -122.42022, -122.41098000000001, -122.46388, -122.43579, -122.456854, -122.45700000000001, -122.39636000000002], \"marker\": {\"color\": [2817.285714285714, 3031.8333333333335, 2318.4, 3739.0, 3080.3333333333335, 2698.8333333333335, 2817.285714285714, 2817.285714285714, 2250.5, 2472.0, 2817.285714285714, 2698.8333333333335, 2016.0, 2817.285714285714, 2780.25, 2817.285714285714, 3031.8333333333335, 2817.285714285714, 2472.0, 1781.5, 2899.5, 2601.4, 2817.285714285714, 2817.285714285714, 2489.0, 2509.0, 2960.0, 2817.285714285714, 3224.0, 2817.285714285714, 2817.285714285714, 2817.285714285714, 2555.1666666666665, 2555.1666666666665, 2817.285714285714, 2817.285714285714, 3414.0, 2647.5, 2155.25, 2663.6666666666665, 2555.1666666666665, 3173.4, 2817.285714285714, 2817.285714285714, 2990.8, 2818.4, 2434.0, 2995.75, 2817.285714285714, 2817.285714285714, 2817.285714285714, 2817.285714285714, 2817.285714285714, 2555.1666666666665, 2817.285714285714, 2318.4, 2817.285714285714, 2817.285714285714, 2817.285714285714, 3528.0, 2099.0, 2817.285714285714, 2899.5, 2817.285714285714, 2817.285714285714, 2555.1666666666665, 2817.285714285714, 3657.0, 2515.5, 2555.1666666666665, 2250.5, 3959.0, 2555.1666666666665], \"coloraxis\": \"coloraxis\", \"size\": [366.02071153227644, 373.38219782647707, 204.58862288246596, 590.7928388746802, 576.7464881132382, 452.6805909308442, 394.4223987800589, 423.6879277015824, 487.2448860262575, 587.5390673661739, 665.964041578323, 303.00418440849427, 434.99173944522124, 391.43437776742576, 502.59915555623616, 642.2486706357391, 388.76592700230754, 391.36253308010487, 455.83621223779153, 321.84083657398736, 623.826177537435, 639.3935574881156, 449.5447622856192, 355.9328279480578, 170.62491987132685, 367.8951440852775, 384.7979281346048, 397.67371473613446, 519.3856038526768, 378.59431396136455, 413.66751546215943, 529.3841850673389, 409.95435219297514, 478.2285530213679, 539.2379688783261, 583.7492694814549, 788.8448175872469, 550.5103482917151, 779.810842264425, 566.1922135483312, 418.9156225067234, 523.4662013248023, 458.2040944846015, 542.4429128151736, 411.646875881678, 498.26975500787677, 330.0973846552545, 242.37095202049667, 485.0270126111035, 473.90077331796317, 394.21903228550775, 689.5558168113664, 373.732856371763, 336.172661037069, 632.740453508577, 327.11392534647274, 662.0136128276529, 675.3502120510033, 608.9832172374425, 170.2925485152069, 650.1244791945729, 570.2714266991686, 528.3183317138463, 676.5065775293257, 469.39862649935156, 903.9932576720645, 404.1501801622257, 301.46617997450267, 498.4884848295011, 307.56220097996066, 533.7039354359513, 687.0875745178323, 576.709848378276], \"sizemode\": \"area\", \"sizeref\": 2.259983144180161}, \"mode\": \"markers\", \"name\": \"\", \"showlegend\": false, \"subplot\": \"mapbox\", \"type\": \"scattermapbox\"}],                        {\"coloraxis\": {\"colorbar\": {\"title\": {\"text\": \"gross_rent\"}}, \"colorscale\": [[0.0, \"#000000\"], [0.0625, \"#001f4d\"], [0.125, \"#003786\"], [0.1875, \"#0e58a8\"], [0.25, \"#217eb8\"], [0.3125, \"#30a4ca\"], [0.375, \"#54c8df\"], [0.4375, \"#9be4ef\"], [0.5, \"#e1e9d1\"], [0.5625, \"#f3d573\"], [0.625, \"#e7b000\"], [0.6875, \"#da8200\"], [0.75, \"#c65400\"], [0.8125, \"#ac2301\"], [0.875, \"#820000\"], [0.9375, \"#4c0000\"], [1.0, \"#000000\"]]}, \"legend\": {\"itemsizing\": \"constant\", \"tracegroupgap\": 0}, \"mapbox\": {\"accesstoken\": \"pk.eyJ1IjoiY3J1c2FkaW5nZ3JvdW5kaG9nIiwiYSI6ImNrb20zanRzOTBlNnEydm8xMnFneWFjZXcifQ.FqVPXzmmW3kblQJijXXkNw\", \"center\": {\"lat\": 37.76019350684932, \"lon\": -122.4391238082192}, \"domain\": {\"x\": [0.0, 1.0], \"y\": [0.0, 1.0]}, \"zoom\": 11}, \"template\": {\"data\": {\"bar\": [{\"error_x\": {\"color\": \"#2a3f5f\"}, \"error_y\": {\"color\": \"#2a3f5f\"}, \"marker\": {\"line\": {\"color\": \"#E5ECF6\", \"width\": 0.5}}, \"type\": \"bar\"}], \"barpolar\": [{\"marker\": {\"line\": {\"color\": \"#E5ECF6\", \"width\": 0.5}}, \"type\": \"barpolar\"}], \"carpet\": [{\"aaxis\": {\"endlinecolor\": \"#2a3f5f\", \"gridcolor\": \"white\", \"linecolor\": \"white\", \"minorgridcolor\": \"white\", \"startlinecolor\": \"#2a3f5f\"}, \"baxis\": {\"endlinecolor\": \"#2a3f5f\", \"gridcolor\": \"white\", \"linecolor\": \"white\", \"minorgridcolor\": \"white\", \"startlinecolor\": \"#2a3f5f\"}, \"type\": \"carpet\"}], \"choropleth\": [{\"colorbar\": {\"outlinewidth\": 0, \"ticks\": \"\"}, \"type\": \"choropleth\"}], \"contour\": [{\"colorbar\": {\"outlinewidth\": 0, \"ticks\": \"\"}, \"colorscale\": [[0.0, \"#0d0887\"], [0.1111111111111111, \"#46039f\"], [0.2222222222222222, \"#7201a8\"], [0.3333333333333333, \"#9c179e\"], [0.4444444444444444, \"#bd3786\"], [0.5555555555555556, \"#d8576b\"], [0.6666666666666666, \"#ed7953\"], [0.7777777777777778, \"#fb9f3a\"], [0.8888888888888888, \"#fdca26\"], [1.0, \"#f0f921\"]], \"type\": \"contour\"}], \"contourcarpet\": [{\"colorbar\": {\"outlinewidth\": 0, \"ticks\": \"\"}, \"type\": \"contourcarpet\"}], \"heatmap\": [{\"colorbar\": {\"outlinewidth\": 0, \"ticks\": \"\"}, \"colorscale\": [[0.0, \"#0d0887\"], [0.1111111111111111, \"#46039f\"], [0.2222222222222222, \"#7201a8\"], [0.3333333333333333, \"#9c179e\"], [0.4444444444444444, \"#bd3786\"], [0.5555555555555556, \"#d8576b\"], [0.6666666666666666, \"#ed7953\"], [0.7777777777777778, \"#fb9f3a\"], [0.8888888888888888, \"#fdca26\"], [1.0, \"#f0f921\"]], \"type\": \"heatmap\"}], \"heatmapgl\": [{\"colorbar\": {\"outlinewidth\": 0, \"ticks\": \"\"}, \"colorscale\": [[0.0, \"#0d0887\"], [0.1111111111111111, \"#46039f\"], [0.2222222222222222, \"#7201a8\"], [0.3333333333333333, \"#9c179e\"], [0.4444444444444444, \"#bd3786\"], [0.5555555555555556, \"#d8576b\"], [0.6666666666666666, \"#ed7953\"], [0.7777777777777778, \"#fb9f3a\"], [0.8888888888888888, \"#fdca26\"], [1.0, \"#f0f921\"]], \"type\": \"heatmapgl\"}], \"histogram\": [{\"marker\": {\"colorbar\": {\"outlinewidth\": 0, \"ticks\": \"\"}}, \"type\": \"histogram\"}], \"histogram2d\": [{\"colorbar\": {\"outlinewidth\": 0, \"ticks\": \"\"}, \"colorscale\": [[0.0, \"#0d0887\"], [0.1111111111111111, \"#46039f\"], [0.2222222222222222, \"#7201a8\"], [0.3333333333333333, \"#9c179e\"], [0.4444444444444444, \"#bd3786\"], [0.5555555555555556, \"#d8576b\"], [0.6666666666666666, \"#ed7953\"], [0.7777777777777778, \"#fb9f3a\"], [0.8888888888888888, \"#fdca26\"], [1.0, \"#f0f921\"]], \"type\": \"histogram2d\"}], \"histogram2dcontour\": [{\"colorbar\": {\"outlinewidth\": 0, \"ticks\": \"\"}, \"colorscale\": [[0.0, \"#0d0887\"], [0.1111111111111111, \"#46039f\"], [0.2222222222222222, \"#7201a8\"], [0.3333333333333333, \"#9c179e\"], [0.4444444444444444, \"#bd3786\"], [0.5555555555555556, \"#d8576b\"], [0.6666666666666666, \"#ed7953\"], [0.7777777777777778, \"#fb9f3a\"], [0.8888888888888888, \"#fdca26\"], [1.0, \"#f0f921\"]], \"type\": \"histogram2dcontour\"}], \"mesh3d\": [{\"colorbar\": {\"outlinewidth\": 0, \"ticks\": \"\"}, \"type\": \"mesh3d\"}], \"parcoords\": [{\"line\": {\"colorbar\": {\"outlinewidth\": 0, \"ticks\": \"\"}}, \"type\": \"parcoords\"}], \"pie\": [{\"automargin\": true, \"type\": \"pie\"}], \"scatter\": [{\"marker\": {\"colorbar\": {\"outlinewidth\": 0, \"ticks\": \"\"}}, \"type\": \"scatter\"}], \"scatter3d\": [{\"line\": {\"colorbar\": {\"outlinewidth\": 0, \"ticks\": \"\"}}, \"marker\": {\"colorbar\": {\"outlinewidth\": 0, \"ticks\": \"\"}}, \"type\": \"scatter3d\"}], \"scattercarpet\": [{\"marker\": {\"colorbar\": {\"outlinewidth\": 0, \"ticks\": \"\"}}, \"type\": \"scattercarpet\"}], \"scattergeo\": [{\"marker\": {\"colorbar\": {\"outlinewidth\": 0, \"ticks\": \"\"}}, \"type\": \"scattergeo\"}], \"scattergl\": [{\"marker\": {\"colorbar\": {\"outlinewidth\": 0, \"ticks\": \"\"}}, \"type\": \"scattergl\"}], \"scattermapbox\": [{\"marker\": {\"colorbar\": {\"outlinewidth\": 0, \"ticks\": \"\"}}, \"type\": \"scattermapbox\"}], \"scatterpolar\": [{\"marker\": {\"colorbar\": {\"outlinewidth\": 0, \"ticks\": \"\"}}, \"type\": \"scatterpolar\"}], \"scatterpolargl\": [{\"marker\": {\"colorbar\": {\"outlinewidth\": 0, \"ticks\": \"\"}}, \"type\": \"scatterpolargl\"}], \"scatterternary\": [{\"marker\": {\"colorbar\": {\"outlinewidth\": 0, \"ticks\": \"\"}}, \"type\": \"scatterternary\"}], \"surface\": [{\"colorbar\": {\"outlinewidth\": 0, \"ticks\": \"\"}, \"colorscale\": [[0.0, \"#0d0887\"], [0.1111111111111111, \"#46039f\"], [0.2222222222222222, \"#7201a8\"], [0.3333333333333333, \"#9c179e\"], [0.4444444444444444, \"#bd3786\"], [0.5555555555555556, \"#d8576b\"], [0.6666666666666666, \"#ed7953\"], [0.7777777777777778, \"#fb9f3a\"], [0.8888888888888888, \"#fdca26\"], [1.0, \"#f0f921\"]], \"type\": \"surface\"}], \"table\": [{\"cells\": {\"fill\": {\"color\": \"#EBF0F8\"}, \"line\": {\"color\": \"white\"}}, \"header\": {\"fill\": {\"color\": \"#C8D4E3\"}, \"line\": {\"color\": \"white\"}}, \"type\": \"table\"}]}, \"layout\": {\"annotationdefaults\": {\"arrowcolor\": \"#2a3f5f\", \"arrowhead\": 0, \"arrowwidth\": 1}, \"autotypenumbers\": \"strict\", \"coloraxis\": {\"colorbar\": {\"outlinewidth\": 0, \"ticks\": \"\"}}, \"colorscale\": {\"diverging\": [[0, \"#8e0152\"], [0.1, \"#c51b7d\"], [0.2, \"#de77ae\"], [0.3, \"#f1b6da\"], [0.4, \"#fde0ef\"], [0.5, \"#f7f7f7\"], [0.6, \"#e6f5d0\"], [0.7, \"#b8e186\"], [0.8, \"#7fbc41\"], [0.9, \"#4d9221\"], [1, \"#276419\"]], \"sequential\": [[0.0, \"#0d0887\"], [0.1111111111111111, \"#46039f\"], [0.2222222222222222, \"#7201a8\"], [0.3333333333333333, \"#9c179e\"], [0.4444444444444444, \"#bd3786\"], [0.5555555555555556, \"#d8576b\"], [0.6666666666666666, \"#ed7953\"], [0.7777777777777778, \"#fb9f3a\"], [0.8888888888888888, \"#fdca26\"], [1.0, \"#f0f921\"]], \"sequentialminus\": [[0.0, \"#0d0887\"], [0.1111111111111111, \"#46039f\"], [0.2222222222222222, \"#7201a8\"], [0.3333333333333333, \"#9c179e\"], [0.4444444444444444, \"#bd3786\"], [0.5555555555555556, \"#d8576b\"], [0.6666666666666666, \"#ed7953\"], [0.7777777777777778, \"#fb9f3a\"], [0.8888888888888888, \"#fdca26\"], [1.0, \"#f0f921\"]]}, \"colorway\": [\"#636efa\", \"#EF553B\", \"#00cc96\", \"#ab63fa\", \"#FFA15A\", \"#19d3f3\", \"#FF6692\", \"#B6E880\", \"#FF97FF\", \"#FECB52\"], \"font\": {\"color\": \"#2a3f5f\"}, \"geo\": {\"bgcolor\": \"white\", \"lakecolor\": \"white\", \"landcolor\": \"#E5ECF6\", \"showlakes\": true, \"showland\": true, \"subunitcolor\": \"white\"}, \"hoverlabel\": {\"align\": \"left\"}, \"hovermode\": \"closest\", \"mapbox\": {\"style\": \"light\"}, \"paper_bgcolor\": \"white\", \"plot_bgcolor\": \"#E5ECF6\", \"polar\": {\"angularaxis\": {\"gridcolor\": \"white\", \"linecolor\": \"white\", \"ticks\": \"\"}, \"bgcolor\": \"#E5ECF6\", \"radialaxis\": {\"gridcolor\": \"white\", \"linecolor\": \"white\", \"ticks\": \"\"}}, \"scene\": {\"xaxis\": {\"backgroundcolor\": \"#E5ECF6\", \"gridcolor\": \"white\", \"gridwidth\": 2, \"linecolor\": \"white\", \"showbackground\": true, \"ticks\": \"\", \"zerolinecolor\": \"white\"}, \"yaxis\": {\"backgroundcolor\": \"#E5ECF6\", \"gridcolor\": \"white\", \"gridwidth\": 2, \"linecolor\": \"white\", \"showbackground\": true, \"ticks\": \"\", \"zerolinecolor\": \"white\"}, \"zaxis\": {\"backgroundcolor\": \"#E5ECF6\", \"gridcolor\": \"white\", \"gridwidth\": 2, \"linecolor\": \"white\", \"showbackground\": true, \"ticks\": \"\", \"zerolinecolor\": \"white\"}}, \"shapedefaults\": {\"line\": {\"color\": \"#2a3f5f\"}}, \"ternary\": {\"aaxis\": {\"gridcolor\": \"white\", \"linecolor\": \"white\", \"ticks\": \"\"}, \"baxis\": {\"gridcolor\": \"white\", \"linecolor\": \"white\", \"ticks\": \"\"}, \"bgcolor\": \"#E5ECF6\", \"caxis\": {\"gridcolor\": \"white\", \"linecolor\": \"white\", \"ticks\": \"\"}}, \"title\": {\"x\": 0.05}, \"xaxis\": {\"automargin\": true, \"gridcolor\": \"white\", \"linecolor\": \"white\", \"ticks\": \"\", \"title\": {\"standoff\": 15}, \"zerolinecolor\": \"white\", \"zerolinewidth\": 2}, \"yaxis\": {\"automargin\": true, \"gridcolor\": \"white\", \"linecolor\": \"white\", \"ticks\": \"\", \"title\": {\"standoff\": 15}, \"zerolinecolor\": \"white\", \"zerolinewidth\": 2}}}, \"title\": {\"text\": \"Average Sale Price Per SqFt & Gross Rent in San Francisco\"}},                        {\"responsive\": true}                    ).then(function(){\n",
       "                            \n",
       "var gd = document.getElementById('664494d4-f5e1-45c0-95d6-894055046118');\n",
       "var x = new MutationObserver(function (mutations, observer) {{\n",
       "        var display = window.getComputedStyle(gd).display;\n",
       "        if (!display || display === 'none') {{\n",
       "            console.log([gd, 'removed!']);\n",
       "            Plotly.purge(gd);\n",
       "            observer.disconnect();\n",
       "        }}\n",
       "}});\n",
       "\n",
       "// Listen for the removal of the full notebook cells\n",
       "var notebookContainer = gd.closest('#notebook-container');\n",
       "if (notebookContainer) {{\n",
       "    x.observe(notebookContainer, {childList: true});\n",
       "}}\n",
       "\n",
       "// Listen for the clearing of the current output cell\n",
       "var outputEl = gd.closest('.output');\n",
       "if (outputEl) {{\n",
       "    x.observe(outputEl, {childList: true});\n",
       "}}\n",
       "\n",
       "                        })                };                });            </script>        </div>"
      ]
     },
     "metadata": {},
     "output_type": "display_data"
    }
   ],
   "source": [
    "map_plot = px.scatter_mapbox(\n",
    "    combined_df,\n",
    "    lat=\"Lat\",\n",
    "    lon=\"Lon\",\n",
    "    size=\"sale_price_sqr_foot\",\n",
    "    color=\"gross_rent\",\n",
    "    color_continuous_scale=px.colors.cyclical.IceFire,\n",
    "    hover_name=\"Neighborhood\",\n",
    "    title=\"Average Sale Price Per SqFt & Gross Rent in San Francisco\",\n",
    "    zoom=11\n",
    ")\n",
    "map_plot.show()\n",
    "#The map doesn't pop up for me specifically but I can see the stats when I scroll over it?"
   ]
  },
  {
   "cell_type": "markdown",
   "id": "dfa53e40",
   "metadata": {},
   "source": [
    "### Cost Analysis-Optional Challenge"
   ]
  },
  {
   "cell_type": "code",
   "execution_count": null,
   "id": "6b9ed756",
   "metadata": {},
   "outputs": [],
   "source": []
  }
 ],
 "metadata": {
  "kernelspec": {
   "display_name": "Python 3",
   "language": "python",
   "name": "python3"
  },
  "language_info": {
   "codemirror_mode": {
    "name": "ipython",
    "version": 3
   },
   "file_extension": ".py",
   "mimetype": "text/x-python",
   "name": "python",
   "nbconvert_exporter": "python",
   "pygments_lexer": "ipython3",
   "version": "3.8.5"
  }
 },
 "nbformat": 4,
 "nbformat_minor": 5
}
